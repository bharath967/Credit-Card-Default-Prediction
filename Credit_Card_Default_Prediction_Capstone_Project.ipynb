{
  "nbformat": 4,
  "nbformat_minor": 0,
  "metadata": {
    "kernelspec": {
      "display_name": "Python 3",
      "language": "python",
      "name": "python3"
    },
    "language_info": {
      "codemirror_mode": {
        "name": "ipython",
        "version": 3
      },
      "file_extension": ".py",
      "mimetype": "text/x-python",
      "name": "python",
      "nbconvert_exporter": "python",
      "pygments_lexer": "ipython3",
      "version": "3.6.6"
    },
    "colab": {
      "provenance": [],
      "collapsed_sections": [],
      "include_colab_link": true
    }
  },
  "cells": [
    {
      "cell_type": "markdown",
      "metadata": {
        "id": "view-in-github",
        "colab_type": "text"
      },
      "source": [
        "<a href=\"https://colab.research.google.com/github/bharath967/Credit-Card-Default-Prediction/blob/main/Credit_Card_Default_Prediction_Capstone_Project.ipynb\" target=\"_parent\"><img src=\"https://colab.research.google.com/assets/colab-badge.svg\" alt=\"Open In Colab\"/></a>"
      ]
    },
    {
      "cell_type": "markdown",
      "metadata": {
        "id": "tOGC-qoyhJeX"
      },
      "source": [
        "# <b><u> Project Title : Predicting whether a customer will default on his/her credit card </u></b>"
      ]
    },
    {
      "cell_type": "markdown",
      "metadata": {
        "id": "Y06xIdG26kRF"
      },
      "source": [
        "## <b> Problem Description </b>\n",
        "\n",
        "### This project is aimed at predicting the case of customers default payments in Taiwan. From the perspective of risk management, the result of predictive accuracy of the estimated probability of default will be more valuable than the binary result of classification - credible or not credible clients. We can use the [K-S chart](https://www.listendata.com/2019/07/KS-Statistics-Python.html) to evaluate which customers will default on their credit card payments\n"
      ]
    },
    {
      "cell_type": "markdown",
      "metadata": {
        "id": "AlLxAtlziMbP"
      },
      "source": [
        "## <b> Data Description </b>\n",
        "\n",
        "### <b>Attribute Information: </b>\n",
        "\n",
        "### This research employed a binary variable, default payment (Yes = 1, No = 0), as the response variable. This study reviewed the literature and used the following 23 variables as explanatory variables:\n",
        "* ### X1: Amount of the given credit (NT dollar): it includes both the individual consumer credit and his/her family (supplementary) credit.\n",
        "* ### X2: Gender (1 = male; 2 = female).\n",
        "* ### X3: Education (1 = graduate school; 2 = university; 3 = high school; 4 = others).\n",
        "* ### X4: Marital status (1 = married; 2 = single; 3 = others).\n",
        "* ### X5: Age (year).\n",
        "* ### X6 - X11: History of past payment. We tracked the past monthly payment records (from April to September, 2005) as follows: X6 = the repayment status in September, 2005; X7 = the repayment status in August, 2005; . . .;X11 = the repayment status in April, 2005. The measurement scale for the repayment status is: -1 = pay duly; 1 = payment delay for one month; 2 = payment delay for two months; . . .; 8 = payment delay for eight months; 9 = payment delay for nine months and above.\n",
        "* ### X12-X17: Amount of bill statement (NT dollar). X12 = amount of bill statement in September, 2005; X13 = amount of bill statement in August, 2005; . . .; X17 = amount of bill statement in April, 2005.\n",
        "* ### X18-X23: Amount of previous payment (NT dollar). X18 = amount paid in September, 2005; X19 = amount paid in August, 2005; . . .;X23 = amount paid in April, 2005."
      ]
    },
    {
      "cell_type": "code",
      "source": [
        "pip install --upgrade xlrd"
      ],
      "metadata": {
        "colab": {
          "base_uri": "https://localhost:8080/"
        },
        "id": "0rHWV4pN-Uva",
        "outputId": "6021a7ec-d713-470c-f2e8-922099229c1e"
      },
      "execution_count": 1,
      "outputs": [
        {
          "output_type": "stream",
          "name": "stdout",
          "text": [
            "Looking in indexes: https://pypi.org/simple, https://us-python.pkg.dev/colab-wheels/public/simple/\n",
            "Requirement already satisfied: xlrd in /usr/local/lib/python3.7/dist-packages (1.1.0)\n",
            "Collecting xlrd\n",
            "  Downloading xlrd-2.0.1-py2.py3-none-any.whl (96 kB)\n",
            "\u001b[K     |████████████████████████████████| 96 kB 2.7 MB/s \n",
            "\u001b[?25hInstalling collected packages: xlrd\n",
            "  Attempting uninstall: xlrd\n",
            "    Found existing installation: xlrd 1.1.0\n",
            "    Uninstalling xlrd-1.1.0:\n",
            "      Successfully uninstalled xlrd-1.1.0\n",
            "Successfully installed xlrd-2.0.1\n"
          ]
        }
      ]
    },
    {
      "cell_type": "code",
      "source": [
        "pip install xlrd"
      ],
      "metadata": {
        "colab": {
          "base_uri": "https://localhost:8080/"
        },
        "id": "z26eyH8X-tR7",
        "outputId": "ed33c39b-7da4-41f2-8112-70ba4b73e90d"
      },
      "execution_count": 2,
      "outputs": [
        {
          "output_type": "stream",
          "name": "stdout",
          "text": [
            "Looking in indexes: https://pypi.org/simple, https://us-python.pkg.dev/colab-wheels/public/simple/\n",
            "Requirement already satisfied: xlrd in /usr/local/lib/python3.7/dist-packages (2.0.1)\n"
          ]
        }
      ]
    },
    {
      "cell_type": "code",
      "metadata": {
        "id": "dByMsuzT8Tnw"
      },
      "source": [
        "# importing libraries\n",
        "import numpy as np\n",
        "import pandas as pd\n",
        "import matplotlib.pyplot as plt\n",
        "import seaborn as sns\n",
        "%matplotlib inline\n",
        "import warnings\n",
        "warnings.filterwarnings('ignore')\n",
        "\n"
      ],
      "execution_count": 3,
      "outputs": []
    },
    {
      "cell_type": "code",
      "source": [],
      "metadata": {
        "id": "8WSnA7YN-1lA"
      },
      "execution_count": 3,
      "outputs": []
    },
    {
      "cell_type": "code",
      "source": [
        "# Mounting drive to google colab\n",
        "from google.colab import drive\n",
        "drive.mount('/content/drive')"
      ],
      "metadata": {
        "colab": {
          "base_uri": "https://localhost:8080/"
        },
        "id": "4nqHqw_0-QGi",
        "outputId": "47a1b338-010e-4cb6-d78b-b4835201b224"
      },
      "execution_count": 4,
      "outputs": [
        {
          "output_type": "stream",
          "name": "stdout",
          "text": [
            "Mounted at /content/drive\n"
          ]
        }
      ]
    },
    {
      "cell_type": "code",
      "source": [
        "path='/content/drive/MyDrive/Almabetter/Credit Card Default prediction/default of credit card clients.csv'"
      ],
      "metadata": {
        "id": "NCiFOm1I-Sa6"
      },
      "execution_count": 5,
      "outputs": []
    },
    {
      "cell_type": "code",
      "source": [
        "# Reading our Dataset\n",
        "data = pd.read_csv(path, header=1)"
      ],
      "metadata": {
        "id": "j4ctx5Vi-lZO"
      },
      "execution_count": 6,
      "outputs": []
    },
    {
      "cell_type": "code",
      "source": [],
      "metadata": {
        "id": "WPgsCDgc-qYg"
      },
      "execution_count": 6,
      "outputs": []
    },
    {
      "cell_type": "code",
      "source": [
        "data.head()"
      ],
      "metadata": {
        "colab": {
          "base_uri": "https://localhost:8080/",
          "height": 352
        },
        "id": "kOa8G_EO_I8m",
        "outputId": "072c025b-dc3e-4f0a-ed1d-21ba589c8b08"
      },
      "execution_count": 7,
      "outputs": [
        {
          "output_type": "execute_result",
          "data": {
            "text/plain": [
              "   ID  LIMIT_BAL  SEX  EDUCATION  MARRIAGE  AGE  PAY_0  PAY_2  PAY_3  PAY_4  \\\n",
              "0   1      20000    2          2         1   24      2      2     -1     -1   \n",
              "1   2     120000    2          2         2   26     -1      2      0      0   \n",
              "2   3      90000    2          2         2   34      0      0      0      0   \n",
              "3   4      50000    2          2         1   37      0      0      0      0   \n",
              "4   5      50000    1          2         1   57     -1      0     -1      0   \n",
              "\n",
              "   ...  BILL_AMT4  BILL_AMT5  BILL_AMT6  PAY_AMT1  PAY_AMT2  PAY_AMT3  \\\n",
              "0  ...          0          0          0         0       689         0   \n",
              "1  ...       3272       3455       3261         0      1000      1000   \n",
              "2  ...      14331      14948      15549      1518      1500      1000   \n",
              "3  ...      28314      28959      29547      2000      2019      1200   \n",
              "4  ...      20940      19146      19131      2000     36681     10000   \n",
              "\n",
              "   PAY_AMT4  PAY_AMT5  PAY_AMT6  default payment next month  \n",
              "0         0         0         0                           1  \n",
              "1      1000         0      2000                           1  \n",
              "2      1000      1000      5000                           0  \n",
              "3      1100      1069      1000                           0  \n",
              "4      9000       689       679                           0  \n",
              "\n",
              "[5 rows x 25 columns]"
            ],
            "text/html": [
              "\n",
              "  <div id=\"df-bcea15a1-ea14-4b05-b1d6-050eebbb8503\">\n",
              "    <div class=\"colab-df-container\">\n",
              "      <div>\n",
              "<style scoped>\n",
              "    .dataframe tbody tr th:only-of-type {\n",
              "        vertical-align: middle;\n",
              "    }\n",
              "\n",
              "    .dataframe tbody tr th {\n",
              "        vertical-align: top;\n",
              "    }\n",
              "\n",
              "    .dataframe thead th {\n",
              "        text-align: right;\n",
              "    }\n",
              "</style>\n",
              "<table border=\"1\" class=\"dataframe\">\n",
              "  <thead>\n",
              "    <tr style=\"text-align: right;\">\n",
              "      <th></th>\n",
              "      <th>ID</th>\n",
              "      <th>LIMIT_BAL</th>\n",
              "      <th>SEX</th>\n",
              "      <th>EDUCATION</th>\n",
              "      <th>MARRIAGE</th>\n",
              "      <th>AGE</th>\n",
              "      <th>PAY_0</th>\n",
              "      <th>PAY_2</th>\n",
              "      <th>PAY_3</th>\n",
              "      <th>PAY_4</th>\n",
              "      <th>...</th>\n",
              "      <th>BILL_AMT4</th>\n",
              "      <th>BILL_AMT5</th>\n",
              "      <th>BILL_AMT6</th>\n",
              "      <th>PAY_AMT1</th>\n",
              "      <th>PAY_AMT2</th>\n",
              "      <th>PAY_AMT3</th>\n",
              "      <th>PAY_AMT4</th>\n",
              "      <th>PAY_AMT5</th>\n",
              "      <th>PAY_AMT6</th>\n",
              "      <th>default payment next month</th>\n",
              "    </tr>\n",
              "  </thead>\n",
              "  <tbody>\n",
              "    <tr>\n",
              "      <th>0</th>\n",
              "      <td>1</td>\n",
              "      <td>20000</td>\n",
              "      <td>2</td>\n",
              "      <td>2</td>\n",
              "      <td>1</td>\n",
              "      <td>24</td>\n",
              "      <td>2</td>\n",
              "      <td>2</td>\n",
              "      <td>-1</td>\n",
              "      <td>-1</td>\n",
              "      <td>...</td>\n",
              "      <td>0</td>\n",
              "      <td>0</td>\n",
              "      <td>0</td>\n",
              "      <td>0</td>\n",
              "      <td>689</td>\n",
              "      <td>0</td>\n",
              "      <td>0</td>\n",
              "      <td>0</td>\n",
              "      <td>0</td>\n",
              "      <td>1</td>\n",
              "    </tr>\n",
              "    <tr>\n",
              "      <th>1</th>\n",
              "      <td>2</td>\n",
              "      <td>120000</td>\n",
              "      <td>2</td>\n",
              "      <td>2</td>\n",
              "      <td>2</td>\n",
              "      <td>26</td>\n",
              "      <td>-1</td>\n",
              "      <td>2</td>\n",
              "      <td>0</td>\n",
              "      <td>0</td>\n",
              "      <td>...</td>\n",
              "      <td>3272</td>\n",
              "      <td>3455</td>\n",
              "      <td>3261</td>\n",
              "      <td>0</td>\n",
              "      <td>1000</td>\n",
              "      <td>1000</td>\n",
              "      <td>1000</td>\n",
              "      <td>0</td>\n",
              "      <td>2000</td>\n",
              "      <td>1</td>\n",
              "    </tr>\n",
              "    <tr>\n",
              "      <th>2</th>\n",
              "      <td>3</td>\n",
              "      <td>90000</td>\n",
              "      <td>2</td>\n",
              "      <td>2</td>\n",
              "      <td>2</td>\n",
              "      <td>34</td>\n",
              "      <td>0</td>\n",
              "      <td>0</td>\n",
              "      <td>0</td>\n",
              "      <td>0</td>\n",
              "      <td>...</td>\n",
              "      <td>14331</td>\n",
              "      <td>14948</td>\n",
              "      <td>15549</td>\n",
              "      <td>1518</td>\n",
              "      <td>1500</td>\n",
              "      <td>1000</td>\n",
              "      <td>1000</td>\n",
              "      <td>1000</td>\n",
              "      <td>5000</td>\n",
              "      <td>0</td>\n",
              "    </tr>\n",
              "    <tr>\n",
              "      <th>3</th>\n",
              "      <td>4</td>\n",
              "      <td>50000</td>\n",
              "      <td>2</td>\n",
              "      <td>2</td>\n",
              "      <td>1</td>\n",
              "      <td>37</td>\n",
              "      <td>0</td>\n",
              "      <td>0</td>\n",
              "      <td>0</td>\n",
              "      <td>0</td>\n",
              "      <td>...</td>\n",
              "      <td>28314</td>\n",
              "      <td>28959</td>\n",
              "      <td>29547</td>\n",
              "      <td>2000</td>\n",
              "      <td>2019</td>\n",
              "      <td>1200</td>\n",
              "      <td>1100</td>\n",
              "      <td>1069</td>\n",
              "      <td>1000</td>\n",
              "      <td>0</td>\n",
              "    </tr>\n",
              "    <tr>\n",
              "      <th>4</th>\n",
              "      <td>5</td>\n",
              "      <td>50000</td>\n",
              "      <td>1</td>\n",
              "      <td>2</td>\n",
              "      <td>1</td>\n",
              "      <td>57</td>\n",
              "      <td>-1</td>\n",
              "      <td>0</td>\n",
              "      <td>-1</td>\n",
              "      <td>0</td>\n",
              "      <td>...</td>\n",
              "      <td>20940</td>\n",
              "      <td>19146</td>\n",
              "      <td>19131</td>\n",
              "      <td>2000</td>\n",
              "      <td>36681</td>\n",
              "      <td>10000</td>\n",
              "      <td>9000</td>\n",
              "      <td>689</td>\n",
              "      <td>679</td>\n",
              "      <td>0</td>\n",
              "    </tr>\n",
              "  </tbody>\n",
              "</table>\n",
              "<p>5 rows × 25 columns</p>\n",
              "</div>\n",
              "      <button class=\"colab-df-convert\" onclick=\"convertToInteractive('df-bcea15a1-ea14-4b05-b1d6-050eebbb8503')\"\n",
              "              title=\"Convert this dataframe to an interactive table.\"\n",
              "              style=\"display:none;\">\n",
              "        \n",
              "  <svg xmlns=\"http://www.w3.org/2000/svg\" height=\"24px\"viewBox=\"0 0 24 24\"\n",
              "       width=\"24px\">\n",
              "    <path d=\"M0 0h24v24H0V0z\" fill=\"none\"/>\n",
              "    <path d=\"M18.56 5.44l.94 2.06.94-2.06 2.06-.94-2.06-.94-.94-2.06-.94 2.06-2.06.94zm-11 1L8.5 8.5l.94-2.06 2.06-.94-2.06-.94L8.5 2.5l-.94 2.06-2.06.94zm10 10l.94 2.06.94-2.06 2.06-.94-2.06-.94-.94-2.06-.94 2.06-2.06.94z\"/><path d=\"M17.41 7.96l-1.37-1.37c-.4-.4-.92-.59-1.43-.59-.52 0-1.04.2-1.43.59L10.3 9.45l-7.72 7.72c-.78.78-.78 2.05 0 2.83L4 21.41c.39.39.9.59 1.41.59.51 0 1.02-.2 1.41-.59l7.78-7.78 2.81-2.81c.8-.78.8-2.07 0-2.86zM5.41 20L4 18.59l7.72-7.72 1.47 1.35L5.41 20z\"/>\n",
              "  </svg>\n",
              "      </button>\n",
              "      \n",
              "  <style>\n",
              "    .colab-df-container {\n",
              "      display:flex;\n",
              "      flex-wrap:wrap;\n",
              "      gap: 12px;\n",
              "    }\n",
              "\n",
              "    .colab-df-convert {\n",
              "      background-color: #E8F0FE;\n",
              "      border: none;\n",
              "      border-radius: 50%;\n",
              "      cursor: pointer;\n",
              "      display: none;\n",
              "      fill: #1967D2;\n",
              "      height: 32px;\n",
              "      padding: 0 0 0 0;\n",
              "      width: 32px;\n",
              "    }\n",
              "\n",
              "    .colab-df-convert:hover {\n",
              "      background-color: #E2EBFA;\n",
              "      box-shadow: 0px 1px 2px rgba(60, 64, 67, 0.3), 0px 1px 3px 1px rgba(60, 64, 67, 0.15);\n",
              "      fill: #174EA6;\n",
              "    }\n",
              "\n",
              "    [theme=dark] .colab-df-convert {\n",
              "      background-color: #3B4455;\n",
              "      fill: #D2E3FC;\n",
              "    }\n",
              "\n",
              "    [theme=dark] .colab-df-convert:hover {\n",
              "      background-color: #434B5C;\n",
              "      box-shadow: 0px 1px 3px 1px rgba(0, 0, 0, 0.15);\n",
              "      filter: drop-shadow(0px 1px 2px rgba(0, 0, 0, 0.3));\n",
              "      fill: #FFFFFF;\n",
              "    }\n",
              "  </style>\n",
              "\n",
              "      <script>\n",
              "        const buttonEl =\n",
              "          document.querySelector('#df-bcea15a1-ea14-4b05-b1d6-050eebbb8503 button.colab-df-convert');\n",
              "        buttonEl.style.display =\n",
              "          google.colab.kernel.accessAllowed ? 'block' : 'none';\n",
              "\n",
              "        async function convertToInteractive(key) {\n",
              "          const element = document.querySelector('#df-bcea15a1-ea14-4b05-b1d6-050eebbb8503');\n",
              "          const dataTable =\n",
              "            await google.colab.kernel.invokeFunction('convertToInteractive',\n",
              "                                                     [key], {});\n",
              "          if (!dataTable) return;\n",
              "\n",
              "          const docLinkHtml = 'Like what you see? Visit the ' +\n",
              "            '<a target=\"_blank\" href=https://colab.research.google.com/notebooks/data_table.ipynb>data table notebook</a>'\n",
              "            + ' to learn more about interactive tables.';\n",
              "          element.innerHTML = '';\n",
              "          dataTable['output_type'] = 'display_data';\n",
              "          await google.colab.output.renderOutput(dataTable, element);\n",
              "          const docLink = document.createElement('div');\n",
              "          docLink.innerHTML = docLinkHtml;\n",
              "          element.appendChild(docLink);\n",
              "        }\n",
              "      </script>\n",
              "    </div>\n",
              "  </div>\n",
              "  "
            ]
          },
          "metadata": {},
          "execution_count": 7
        }
      ]
    },
    {
      "cell_type": "code",
      "source": [
        "data.tail()"
      ],
      "metadata": {
        "colab": {
          "base_uri": "https://localhost:8080/",
          "height": 352
        },
        "id": "IufxHnHa_UJy",
        "outputId": "a0cc931c-021d-4a87-c2c9-46d086ad240c"
      },
      "execution_count": 8,
      "outputs": [
        {
          "output_type": "execute_result",
          "data": {
            "text/plain": [
              "          ID  LIMIT_BAL  SEX  EDUCATION  MARRIAGE  AGE  PAY_0  PAY_2  PAY_3  \\\n",
              "29995  29996     220000    1          3         1   39      0      0      0   \n",
              "29996  29997     150000    1          3         2   43     -1     -1     -1   \n",
              "29997  29998      30000    1          2         2   37      4      3      2   \n",
              "29998  29999      80000    1          3         1   41      1     -1      0   \n",
              "29999  30000      50000    1          2         1   46      0      0      0   \n",
              "\n",
              "       PAY_4  ...  BILL_AMT4  BILL_AMT5  BILL_AMT6  PAY_AMT1  PAY_AMT2  \\\n",
              "29995      0  ...      88004      31237      15980      8500     20000   \n",
              "29996     -1  ...       8979       5190          0      1837      3526   \n",
              "29997     -1  ...      20878      20582      19357         0         0   \n",
              "29998      0  ...      52774      11855      48944     85900      3409   \n",
              "29999      0  ...      36535      32428      15313      2078      1800   \n",
              "\n",
              "       PAY_AMT3  PAY_AMT4  PAY_AMT5  PAY_AMT6  default payment next month  \n",
              "29995      5003      3047      5000      1000                           0  \n",
              "29996      8998       129         0         0                           0  \n",
              "29997     22000      4200      2000      3100                           1  \n",
              "29998      1178      1926     52964      1804                           1  \n",
              "29999      1430      1000      1000      1000                           1  \n",
              "\n",
              "[5 rows x 25 columns]"
            ],
            "text/html": [
              "\n",
              "  <div id=\"df-aa5de230-a9f2-4a9d-b730-311eb09eaca7\">\n",
              "    <div class=\"colab-df-container\">\n",
              "      <div>\n",
              "<style scoped>\n",
              "    .dataframe tbody tr th:only-of-type {\n",
              "        vertical-align: middle;\n",
              "    }\n",
              "\n",
              "    .dataframe tbody tr th {\n",
              "        vertical-align: top;\n",
              "    }\n",
              "\n",
              "    .dataframe thead th {\n",
              "        text-align: right;\n",
              "    }\n",
              "</style>\n",
              "<table border=\"1\" class=\"dataframe\">\n",
              "  <thead>\n",
              "    <tr style=\"text-align: right;\">\n",
              "      <th></th>\n",
              "      <th>ID</th>\n",
              "      <th>LIMIT_BAL</th>\n",
              "      <th>SEX</th>\n",
              "      <th>EDUCATION</th>\n",
              "      <th>MARRIAGE</th>\n",
              "      <th>AGE</th>\n",
              "      <th>PAY_0</th>\n",
              "      <th>PAY_2</th>\n",
              "      <th>PAY_3</th>\n",
              "      <th>PAY_4</th>\n",
              "      <th>...</th>\n",
              "      <th>BILL_AMT4</th>\n",
              "      <th>BILL_AMT5</th>\n",
              "      <th>BILL_AMT6</th>\n",
              "      <th>PAY_AMT1</th>\n",
              "      <th>PAY_AMT2</th>\n",
              "      <th>PAY_AMT3</th>\n",
              "      <th>PAY_AMT4</th>\n",
              "      <th>PAY_AMT5</th>\n",
              "      <th>PAY_AMT6</th>\n",
              "      <th>default payment next month</th>\n",
              "    </tr>\n",
              "  </thead>\n",
              "  <tbody>\n",
              "    <tr>\n",
              "      <th>29995</th>\n",
              "      <td>29996</td>\n",
              "      <td>220000</td>\n",
              "      <td>1</td>\n",
              "      <td>3</td>\n",
              "      <td>1</td>\n",
              "      <td>39</td>\n",
              "      <td>0</td>\n",
              "      <td>0</td>\n",
              "      <td>0</td>\n",
              "      <td>0</td>\n",
              "      <td>...</td>\n",
              "      <td>88004</td>\n",
              "      <td>31237</td>\n",
              "      <td>15980</td>\n",
              "      <td>8500</td>\n",
              "      <td>20000</td>\n",
              "      <td>5003</td>\n",
              "      <td>3047</td>\n",
              "      <td>5000</td>\n",
              "      <td>1000</td>\n",
              "      <td>0</td>\n",
              "    </tr>\n",
              "    <tr>\n",
              "      <th>29996</th>\n",
              "      <td>29997</td>\n",
              "      <td>150000</td>\n",
              "      <td>1</td>\n",
              "      <td>3</td>\n",
              "      <td>2</td>\n",
              "      <td>43</td>\n",
              "      <td>-1</td>\n",
              "      <td>-1</td>\n",
              "      <td>-1</td>\n",
              "      <td>-1</td>\n",
              "      <td>...</td>\n",
              "      <td>8979</td>\n",
              "      <td>5190</td>\n",
              "      <td>0</td>\n",
              "      <td>1837</td>\n",
              "      <td>3526</td>\n",
              "      <td>8998</td>\n",
              "      <td>129</td>\n",
              "      <td>0</td>\n",
              "      <td>0</td>\n",
              "      <td>0</td>\n",
              "    </tr>\n",
              "    <tr>\n",
              "      <th>29997</th>\n",
              "      <td>29998</td>\n",
              "      <td>30000</td>\n",
              "      <td>1</td>\n",
              "      <td>2</td>\n",
              "      <td>2</td>\n",
              "      <td>37</td>\n",
              "      <td>4</td>\n",
              "      <td>3</td>\n",
              "      <td>2</td>\n",
              "      <td>-1</td>\n",
              "      <td>...</td>\n",
              "      <td>20878</td>\n",
              "      <td>20582</td>\n",
              "      <td>19357</td>\n",
              "      <td>0</td>\n",
              "      <td>0</td>\n",
              "      <td>22000</td>\n",
              "      <td>4200</td>\n",
              "      <td>2000</td>\n",
              "      <td>3100</td>\n",
              "      <td>1</td>\n",
              "    </tr>\n",
              "    <tr>\n",
              "      <th>29998</th>\n",
              "      <td>29999</td>\n",
              "      <td>80000</td>\n",
              "      <td>1</td>\n",
              "      <td>3</td>\n",
              "      <td>1</td>\n",
              "      <td>41</td>\n",
              "      <td>1</td>\n",
              "      <td>-1</td>\n",
              "      <td>0</td>\n",
              "      <td>0</td>\n",
              "      <td>...</td>\n",
              "      <td>52774</td>\n",
              "      <td>11855</td>\n",
              "      <td>48944</td>\n",
              "      <td>85900</td>\n",
              "      <td>3409</td>\n",
              "      <td>1178</td>\n",
              "      <td>1926</td>\n",
              "      <td>52964</td>\n",
              "      <td>1804</td>\n",
              "      <td>1</td>\n",
              "    </tr>\n",
              "    <tr>\n",
              "      <th>29999</th>\n",
              "      <td>30000</td>\n",
              "      <td>50000</td>\n",
              "      <td>1</td>\n",
              "      <td>2</td>\n",
              "      <td>1</td>\n",
              "      <td>46</td>\n",
              "      <td>0</td>\n",
              "      <td>0</td>\n",
              "      <td>0</td>\n",
              "      <td>0</td>\n",
              "      <td>...</td>\n",
              "      <td>36535</td>\n",
              "      <td>32428</td>\n",
              "      <td>15313</td>\n",
              "      <td>2078</td>\n",
              "      <td>1800</td>\n",
              "      <td>1430</td>\n",
              "      <td>1000</td>\n",
              "      <td>1000</td>\n",
              "      <td>1000</td>\n",
              "      <td>1</td>\n",
              "    </tr>\n",
              "  </tbody>\n",
              "</table>\n",
              "<p>5 rows × 25 columns</p>\n",
              "</div>\n",
              "      <button class=\"colab-df-convert\" onclick=\"convertToInteractive('df-aa5de230-a9f2-4a9d-b730-311eb09eaca7')\"\n",
              "              title=\"Convert this dataframe to an interactive table.\"\n",
              "              style=\"display:none;\">\n",
              "        \n",
              "  <svg xmlns=\"http://www.w3.org/2000/svg\" height=\"24px\"viewBox=\"0 0 24 24\"\n",
              "       width=\"24px\">\n",
              "    <path d=\"M0 0h24v24H0V0z\" fill=\"none\"/>\n",
              "    <path d=\"M18.56 5.44l.94 2.06.94-2.06 2.06-.94-2.06-.94-.94-2.06-.94 2.06-2.06.94zm-11 1L8.5 8.5l.94-2.06 2.06-.94-2.06-.94L8.5 2.5l-.94 2.06-2.06.94zm10 10l.94 2.06.94-2.06 2.06-.94-2.06-.94-.94-2.06-.94 2.06-2.06.94z\"/><path d=\"M17.41 7.96l-1.37-1.37c-.4-.4-.92-.59-1.43-.59-.52 0-1.04.2-1.43.59L10.3 9.45l-7.72 7.72c-.78.78-.78 2.05 0 2.83L4 21.41c.39.39.9.59 1.41.59.51 0 1.02-.2 1.41-.59l7.78-7.78 2.81-2.81c.8-.78.8-2.07 0-2.86zM5.41 20L4 18.59l7.72-7.72 1.47 1.35L5.41 20z\"/>\n",
              "  </svg>\n",
              "      </button>\n",
              "      \n",
              "  <style>\n",
              "    .colab-df-container {\n",
              "      display:flex;\n",
              "      flex-wrap:wrap;\n",
              "      gap: 12px;\n",
              "    }\n",
              "\n",
              "    .colab-df-convert {\n",
              "      background-color: #E8F0FE;\n",
              "      border: none;\n",
              "      border-radius: 50%;\n",
              "      cursor: pointer;\n",
              "      display: none;\n",
              "      fill: #1967D2;\n",
              "      height: 32px;\n",
              "      padding: 0 0 0 0;\n",
              "      width: 32px;\n",
              "    }\n",
              "\n",
              "    .colab-df-convert:hover {\n",
              "      background-color: #E2EBFA;\n",
              "      box-shadow: 0px 1px 2px rgba(60, 64, 67, 0.3), 0px 1px 3px 1px rgba(60, 64, 67, 0.15);\n",
              "      fill: #174EA6;\n",
              "    }\n",
              "\n",
              "    [theme=dark] .colab-df-convert {\n",
              "      background-color: #3B4455;\n",
              "      fill: #D2E3FC;\n",
              "    }\n",
              "\n",
              "    [theme=dark] .colab-df-convert:hover {\n",
              "      background-color: #434B5C;\n",
              "      box-shadow: 0px 1px 3px 1px rgba(0, 0, 0, 0.15);\n",
              "      filter: drop-shadow(0px 1px 2px rgba(0, 0, 0, 0.3));\n",
              "      fill: #FFFFFF;\n",
              "    }\n",
              "  </style>\n",
              "\n",
              "      <script>\n",
              "        const buttonEl =\n",
              "          document.querySelector('#df-aa5de230-a9f2-4a9d-b730-311eb09eaca7 button.colab-df-convert');\n",
              "        buttonEl.style.display =\n",
              "          google.colab.kernel.accessAllowed ? 'block' : 'none';\n",
              "\n",
              "        async function convertToInteractive(key) {\n",
              "          const element = document.querySelector('#df-aa5de230-a9f2-4a9d-b730-311eb09eaca7');\n",
              "          const dataTable =\n",
              "            await google.colab.kernel.invokeFunction('convertToInteractive',\n",
              "                                                     [key], {});\n",
              "          if (!dataTable) return;\n",
              "\n",
              "          const docLinkHtml = 'Like what you see? Visit the ' +\n",
              "            '<a target=\"_blank\" href=https://colab.research.google.com/notebooks/data_table.ipynb>data table notebook</a>'\n",
              "            + ' to learn more about interactive tables.';\n",
              "          element.innerHTML = '';\n",
              "          dataTable['output_type'] = 'display_data';\n",
              "          await google.colab.output.renderOutput(dataTable, element);\n",
              "          const docLink = document.createElement('div');\n",
              "          docLink.innerHTML = docLinkHtml;\n",
              "          element.appendChild(docLink);\n",
              "        }\n",
              "      </script>\n",
              "    </div>\n",
              "  </div>\n",
              "  "
            ]
          },
          "metadata": {},
          "execution_count": 8
        }
      ]
    },
    {
      "cell_type": "code",
      "source": [
        "data.columns"
      ],
      "metadata": {
        "colab": {
          "base_uri": "https://localhost:8080/"
        },
        "id": "C3bBbqcn_jZp",
        "outputId": "93ba90e9-ae0f-4053-8dd5-e0dc3ad032f1"
      },
      "execution_count": 9,
      "outputs": [
        {
          "output_type": "execute_result",
          "data": {
            "text/plain": [
              "Index(['ID', 'LIMIT_BAL', 'SEX', 'EDUCATION', 'MARRIAGE', 'AGE', 'PAY_0',\n",
              "       'PAY_2', 'PAY_3', 'PAY_4', 'PAY_5', 'PAY_6', 'BILL_AMT1', 'BILL_AMT2',\n",
              "       'BILL_AMT3', 'BILL_AMT4', 'BILL_AMT5', 'BILL_AMT6', 'PAY_AMT1',\n",
              "       'PAY_AMT2', 'PAY_AMT3', 'PAY_AMT4', 'PAY_AMT5', 'PAY_AMT6',\n",
              "       'default payment next month'],\n",
              "      dtype='object')"
            ]
          },
          "metadata": {},
          "execution_count": 9
        }
      ]
    },
    {
      "cell_type": "code",
      "source": [
        "data.shape"
      ],
      "metadata": {
        "colab": {
          "base_uri": "https://localhost:8080/"
        },
        "id": "guLDpQOv_pfY",
        "outputId": "18710fc9-4718-4094-ba8f-9ffc7e92cc2b"
      },
      "execution_count": 10,
      "outputs": [
        {
          "output_type": "execute_result",
          "data": {
            "text/plain": [
              "(30000, 25)"
            ]
          },
          "metadata": {},
          "execution_count": 10
        }
      ]
    },
    {
      "cell_type": "code",
      "source": [
        "data.describe()"
      ],
      "metadata": {
        "colab": {
          "base_uri": "https://localhost:8080/",
          "height": 428
        },
        "id": "Ax2PDLEjAAkW",
        "outputId": "1d5221db-da90-423b-ad5c-6634f215d50f"
      },
      "execution_count": 11,
      "outputs": [
        {
          "output_type": "execute_result",
          "data": {
            "text/plain": [
              "                 ID       LIMIT_BAL           SEX     EDUCATION      MARRIAGE  \\\n",
              "count  30000.000000    30000.000000  30000.000000  30000.000000  30000.000000   \n",
              "mean   15000.500000   167484.322667      1.603733      1.853133      1.551867   \n",
              "std     8660.398374   129747.661567      0.489129      0.790349      0.521970   \n",
              "min        1.000000    10000.000000      1.000000      0.000000      0.000000   \n",
              "25%     7500.750000    50000.000000      1.000000      1.000000      1.000000   \n",
              "50%    15000.500000   140000.000000      2.000000      2.000000      2.000000   \n",
              "75%    22500.250000   240000.000000      2.000000      2.000000      2.000000   \n",
              "max    30000.000000  1000000.000000      2.000000      6.000000      3.000000   \n",
              "\n",
              "                AGE         PAY_0         PAY_2         PAY_3         PAY_4  \\\n",
              "count  30000.000000  30000.000000  30000.000000  30000.000000  30000.000000   \n",
              "mean      35.485500     -0.016700     -0.133767     -0.166200     -0.220667   \n",
              "std        9.217904      1.123802      1.197186      1.196868      1.169139   \n",
              "min       21.000000     -2.000000     -2.000000     -2.000000     -2.000000   \n",
              "25%       28.000000     -1.000000     -1.000000     -1.000000     -1.000000   \n",
              "50%       34.000000      0.000000      0.000000      0.000000      0.000000   \n",
              "75%       41.000000      0.000000      0.000000      0.000000      0.000000   \n",
              "max       79.000000      8.000000      8.000000      8.000000      8.000000   \n",
              "\n",
              "       ...      BILL_AMT4      BILL_AMT5      BILL_AMT6       PAY_AMT1  \\\n",
              "count  ...   30000.000000   30000.000000   30000.000000   30000.000000   \n",
              "mean   ...   43262.948967   40311.400967   38871.760400    5663.580500   \n",
              "std    ...   64332.856134   60797.155770   59554.107537   16563.280354   \n",
              "min    ... -170000.000000  -81334.000000 -339603.000000       0.000000   \n",
              "25%    ...    2326.750000    1763.000000    1256.000000    1000.000000   \n",
              "50%    ...   19052.000000   18104.500000   17071.000000    2100.000000   \n",
              "75%    ...   54506.000000   50190.500000   49198.250000    5006.000000   \n",
              "max    ...  891586.000000  927171.000000  961664.000000  873552.000000   \n",
              "\n",
              "           PAY_AMT2      PAY_AMT3       PAY_AMT4       PAY_AMT5  \\\n",
              "count  3.000000e+04   30000.00000   30000.000000   30000.000000   \n",
              "mean   5.921163e+03    5225.68150    4826.076867    4799.387633   \n",
              "std    2.304087e+04   17606.96147   15666.159744   15278.305679   \n",
              "min    0.000000e+00       0.00000       0.000000       0.000000   \n",
              "25%    8.330000e+02     390.00000     296.000000     252.500000   \n",
              "50%    2.009000e+03    1800.00000    1500.000000    1500.000000   \n",
              "75%    5.000000e+03    4505.00000    4013.250000    4031.500000   \n",
              "max    1.684259e+06  896040.00000  621000.000000  426529.000000   \n",
              "\n",
              "            PAY_AMT6  default payment next month  \n",
              "count   30000.000000                30000.000000  \n",
              "mean     5215.502567                    0.221200  \n",
              "std     17777.465775                    0.415062  \n",
              "min         0.000000                    0.000000  \n",
              "25%       117.750000                    0.000000  \n",
              "50%      1500.000000                    0.000000  \n",
              "75%      4000.000000                    0.000000  \n",
              "max    528666.000000                    1.000000  \n",
              "\n",
              "[8 rows x 25 columns]"
            ],
            "text/html": [
              "\n",
              "  <div id=\"df-804b7956-90c6-48f4-a2d2-92e6f0bd37cd\">\n",
              "    <div class=\"colab-df-container\">\n",
              "      <div>\n",
              "<style scoped>\n",
              "    .dataframe tbody tr th:only-of-type {\n",
              "        vertical-align: middle;\n",
              "    }\n",
              "\n",
              "    .dataframe tbody tr th {\n",
              "        vertical-align: top;\n",
              "    }\n",
              "\n",
              "    .dataframe thead th {\n",
              "        text-align: right;\n",
              "    }\n",
              "</style>\n",
              "<table border=\"1\" class=\"dataframe\">\n",
              "  <thead>\n",
              "    <tr style=\"text-align: right;\">\n",
              "      <th></th>\n",
              "      <th>ID</th>\n",
              "      <th>LIMIT_BAL</th>\n",
              "      <th>SEX</th>\n",
              "      <th>EDUCATION</th>\n",
              "      <th>MARRIAGE</th>\n",
              "      <th>AGE</th>\n",
              "      <th>PAY_0</th>\n",
              "      <th>PAY_2</th>\n",
              "      <th>PAY_3</th>\n",
              "      <th>PAY_4</th>\n",
              "      <th>...</th>\n",
              "      <th>BILL_AMT4</th>\n",
              "      <th>BILL_AMT5</th>\n",
              "      <th>BILL_AMT6</th>\n",
              "      <th>PAY_AMT1</th>\n",
              "      <th>PAY_AMT2</th>\n",
              "      <th>PAY_AMT3</th>\n",
              "      <th>PAY_AMT4</th>\n",
              "      <th>PAY_AMT5</th>\n",
              "      <th>PAY_AMT6</th>\n",
              "      <th>default payment next month</th>\n",
              "    </tr>\n",
              "  </thead>\n",
              "  <tbody>\n",
              "    <tr>\n",
              "      <th>count</th>\n",
              "      <td>30000.000000</td>\n",
              "      <td>30000.000000</td>\n",
              "      <td>30000.000000</td>\n",
              "      <td>30000.000000</td>\n",
              "      <td>30000.000000</td>\n",
              "      <td>30000.000000</td>\n",
              "      <td>30000.000000</td>\n",
              "      <td>30000.000000</td>\n",
              "      <td>30000.000000</td>\n",
              "      <td>30000.000000</td>\n",
              "      <td>...</td>\n",
              "      <td>30000.000000</td>\n",
              "      <td>30000.000000</td>\n",
              "      <td>30000.000000</td>\n",
              "      <td>30000.000000</td>\n",
              "      <td>3.000000e+04</td>\n",
              "      <td>30000.00000</td>\n",
              "      <td>30000.000000</td>\n",
              "      <td>30000.000000</td>\n",
              "      <td>30000.000000</td>\n",
              "      <td>30000.000000</td>\n",
              "    </tr>\n",
              "    <tr>\n",
              "      <th>mean</th>\n",
              "      <td>15000.500000</td>\n",
              "      <td>167484.322667</td>\n",
              "      <td>1.603733</td>\n",
              "      <td>1.853133</td>\n",
              "      <td>1.551867</td>\n",
              "      <td>35.485500</td>\n",
              "      <td>-0.016700</td>\n",
              "      <td>-0.133767</td>\n",
              "      <td>-0.166200</td>\n",
              "      <td>-0.220667</td>\n",
              "      <td>...</td>\n",
              "      <td>43262.948967</td>\n",
              "      <td>40311.400967</td>\n",
              "      <td>38871.760400</td>\n",
              "      <td>5663.580500</td>\n",
              "      <td>5.921163e+03</td>\n",
              "      <td>5225.68150</td>\n",
              "      <td>4826.076867</td>\n",
              "      <td>4799.387633</td>\n",
              "      <td>5215.502567</td>\n",
              "      <td>0.221200</td>\n",
              "    </tr>\n",
              "    <tr>\n",
              "      <th>std</th>\n",
              "      <td>8660.398374</td>\n",
              "      <td>129747.661567</td>\n",
              "      <td>0.489129</td>\n",
              "      <td>0.790349</td>\n",
              "      <td>0.521970</td>\n",
              "      <td>9.217904</td>\n",
              "      <td>1.123802</td>\n",
              "      <td>1.197186</td>\n",
              "      <td>1.196868</td>\n",
              "      <td>1.169139</td>\n",
              "      <td>...</td>\n",
              "      <td>64332.856134</td>\n",
              "      <td>60797.155770</td>\n",
              "      <td>59554.107537</td>\n",
              "      <td>16563.280354</td>\n",
              "      <td>2.304087e+04</td>\n",
              "      <td>17606.96147</td>\n",
              "      <td>15666.159744</td>\n",
              "      <td>15278.305679</td>\n",
              "      <td>17777.465775</td>\n",
              "      <td>0.415062</td>\n",
              "    </tr>\n",
              "    <tr>\n",
              "      <th>min</th>\n",
              "      <td>1.000000</td>\n",
              "      <td>10000.000000</td>\n",
              "      <td>1.000000</td>\n",
              "      <td>0.000000</td>\n",
              "      <td>0.000000</td>\n",
              "      <td>21.000000</td>\n",
              "      <td>-2.000000</td>\n",
              "      <td>-2.000000</td>\n",
              "      <td>-2.000000</td>\n",
              "      <td>-2.000000</td>\n",
              "      <td>...</td>\n",
              "      <td>-170000.000000</td>\n",
              "      <td>-81334.000000</td>\n",
              "      <td>-339603.000000</td>\n",
              "      <td>0.000000</td>\n",
              "      <td>0.000000e+00</td>\n",
              "      <td>0.00000</td>\n",
              "      <td>0.000000</td>\n",
              "      <td>0.000000</td>\n",
              "      <td>0.000000</td>\n",
              "      <td>0.000000</td>\n",
              "    </tr>\n",
              "    <tr>\n",
              "      <th>25%</th>\n",
              "      <td>7500.750000</td>\n",
              "      <td>50000.000000</td>\n",
              "      <td>1.000000</td>\n",
              "      <td>1.000000</td>\n",
              "      <td>1.000000</td>\n",
              "      <td>28.000000</td>\n",
              "      <td>-1.000000</td>\n",
              "      <td>-1.000000</td>\n",
              "      <td>-1.000000</td>\n",
              "      <td>-1.000000</td>\n",
              "      <td>...</td>\n",
              "      <td>2326.750000</td>\n",
              "      <td>1763.000000</td>\n",
              "      <td>1256.000000</td>\n",
              "      <td>1000.000000</td>\n",
              "      <td>8.330000e+02</td>\n",
              "      <td>390.00000</td>\n",
              "      <td>296.000000</td>\n",
              "      <td>252.500000</td>\n",
              "      <td>117.750000</td>\n",
              "      <td>0.000000</td>\n",
              "    </tr>\n",
              "    <tr>\n",
              "      <th>50%</th>\n",
              "      <td>15000.500000</td>\n",
              "      <td>140000.000000</td>\n",
              "      <td>2.000000</td>\n",
              "      <td>2.000000</td>\n",
              "      <td>2.000000</td>\n",
              "      <td>34.000000</td>\n",
              "      <td>0.000000</td>\n",
              "      <td>0.000000</td>\n",
              "      <td>0.000000</td>\n",
              "      <td>0.000000</td>\n",
              "      <td>...</td>\n",
              "      <td>19052.000000</td>\n",
              "      <td>18104.500000</td>\n",
              "      <td>17071.000000</td>\n",
              "      <td>2100.000000</td>\n",
              "      <td>2.009000e+03</td>\n",
              "      <td>1800.00000</td>\n",
              "      <td>1500.000000</td>\n",
              "      <td>1500.000000</td>\n",
              "      <td>1500.000000</td>\n",
              "      <td>0.000000</td>\n",
              "    </tr>\n",
              "    <tr>\n",
              "      <th>75%</th>\n",
              "      <td>22500.250000</td>\n",
              "      <td>240000.000000</td>\n",
              "      <td>2.000000</td>\n",
              "      <td>2.000000</td>\n",
              "      <td>2.000000</td>\n",
              "      <td>41.000000</td>\n",
              "      <td>0.000000</td>\n",
              "      <td>0.000000</td>\n",
              "      <td>0.000000</td>\n",
              "      <td>0.000000</td>\n",
              "      <td>...</td>\n",
              "      <td>54506.000000</td>\n",
              "      <td>50190.500000</td>\n",
              "      <td>49198.250000</td>\n",
              "      <td>5006.000000</td>\n",
              "      <td>5.000000e+03</td>\n",
              "      <td>4505.00000</td>\n",
              "      <td>4013.250000</td>\n",
              "      <td>4031.500000</td>\n",
              "      <td>4000.000000</td>\n",
              "      <td>0.000000</td>\n",
              "    </tr>\n",
              "    <tr>\n",
              "      <th>max</th>\n",
              "      <td>30000.000000</td>\n",
              "      <td>1000000.000000</td>\n",
              "      <td>2.000000</td>\n",
              "      <td>6.000000</td>\n",
              "      <td>3.000000</td>\n",
              "      <td>79.000000</td>\n",
              "      <td>8.000000</td>\n",
              "      <td>8.000000</td>\n",
              "      <td>8.000000</td>\n",
              "      <td>8.000000</td>\n",
              "      <td>...</td>\n",
              "      <td>891586.000000</td>\n",
              "      <td>927171.000000</td>\n",
              "      <td>961664.000000</td>\n",
              "      <td>873552.000000</td>\n",
              "      <td>1.684259e+06</td>\n",
              "      <td>896040.00000</td>\n",
              "      <td>621000.000000</td>\n",
              "      <td>426529.000000</td>\n",
              "      <td>528666.000000</td>\n",
              "      <td>1.000000</td>\n",
              "    </tr>\n",
              "  </tbody>\n",
              "</table>\n",
              "<p>8 rows × 25 columns</p>\n",
              "</div>\n",
              "      <button class=\"colab-df-convert\" onclick=\"convertToInteractive('df-804b7956-90c6-48f4-a2d2-92e6f0bd37cd')\"\n",
              "              title=\"Convert this dataframe to an interactive table.\"\n",
              "              style=\"display:none;\">\n",
              "        \n",
              "  <svg xmlns=\"http://www.w3.org/2000/svg\" height=\"24px\"viewBox=\"0 0 24 24\"\n",
              "       width=\"24px\">\n",
              "    <path d=\"M0 0h24v24H0V0z\" fill=\"none\"/>\n",
              "    <path d=\"M18.56 5.44l.94 2.06.94-2.06 2.06-.94-2.06-.94-.94-2.06-.94 2.06-2.06.94zm-11 1L8.5 8.5l.94-2.06 2.06-.94-2.06-.94L8.5 2.5l-.94 2.06-2.06.94zm10 10l.94 2.06.94-2.06 2.06-.94-2.06-.94-.94-2.06-.94 2.06-2.06.94z\"/><path d=\"M17.41 7.96l-1.37-1.37c-.4-.4-.92-.59-1.43-.59-.52 0-1.04.2-1.43.59L10.3 9.45l-7.72 7.72c-.78.78-.78 2.05 0 2.83L4 21.41c.39.39.9.59 1.41.59.51 0 1.02-.2 1.41-.59l7.78-7.78 2.81-2.81c.8-.78.8-2.07 0-2.86zM5.41 20L4 18.59l7.72-7.72 1.47 1.35L5.41 20z\"/>\n",
              "  </svg>\n",
              "      </button>\n",
              "      \n",
              "  <style>\n",
              "    .colab-df-container {\n",
              "      display:flex;\n",
              "      flex-wrap:wrap;\n",
              "      gap: 12px;\n",
              "    }\n",
              "\n",
              "    .colab-df-convert {\n",
              "      background-color: #E8F0FE;\n",
              "      border: none;\n",
              "      border-radius: 50%;\n",
              "      cursor: pointer;\n",
              "      display: none;\n",
              "      fill: #1967D2;\n",
              "      height: 32px;\n",
              "      padding: 0 0 0 0;\n",
              "      width: 32px;\n",
              "    }\n",
              "\n",
              "    .colab-df-convert:hover {\n",
              "      background-color: #E2EBFA;\n",
              "      box-shadow: 0px 1px 2px rgba(60, 64, 67, 0.3), 0px 1px 3px 1px rgba(60, 64, 67, 0.15);\n",
              "      fill: #174EA6;\n",
              "    }\n",
              "\n",
              "    [theme=dark] .colab-df-convert {\n",
              "      background-color: #3B4455;\n",
              "      fill: #D2E3FC;\n",
              "    }\n",
              "\n",
              "    [theme=dark] .colab-df-convert:hover {\n",
              "      background-color: #434B5C;\n",
              "      box-shadow: 0px 1px 3px 1px rgba(0, 0, 0, 0.15);\n",
              "      filter: drop-shadow(0px 1px 2px rgba(0, 0, 0, 0.3));\n",
              "      fill: #FFFFFF;\n",
              "    }\n",
              "  </style>\n",
              "\n",
              "      <script>\n",
              "        const buttonEl =\n",
              "          document.querySelector('#df-804b7956-90c6-48f4-a2d2-92e6f0bd37cd button.colab-df-convert');\n",
              "        buttonEl.style.display =\n",
              "          google.colab.kernel.accessAllowed ? 'block' : 'none';\n",
              "\n",
              "        async function convertToInteractive(key) {\n",
              "          const element = document.querySelector('#df-804b7956-90c6-48f4-a2d2-92e6f0bd37cd');\n",
              "          const dataTable =\n",
              "            await google.colab.kernel.invokeFunction('convertToInteractive',\n",
              "                                                     [key], {});\n",
              "          if (!dataTable) return;\n",
              "\n",
              "          const docLinkHtml = 'Like what you see? Visit the ' +\n",
              "            '<a target=\"_blank\" href=https://colab.research.google.com/notebooks/data_table.ipynb>data table notebook</a>'\n",
              "            + ' to learn more about interactive tables.';\n",
              "          element.innerHTML = '';\n",
              "          dataTable['output_type'] = 'display_data';\n",
              "          await google.colab.output.renderOutput(dataTable, element);\n",
              "          const docLink = document.createElement('div');\n",
              "          docLink.innerHTML = docLinkHtml;\n",
              "          element.appendChild(docLink);\n",
              "        }\n",
              "      </script>\n",
              "    </div>\n",
              "  </div>\n",
              "  "
            ]
          },
          "metadata": {},
          "execution_count": 11
        }
      ]
    },
    {
      "cell_type": "code",
      "source": [
        "data.info()"
      ],
      "metadata": {
        "colab": {
          "base_uri": "https://localhost:8080/"
        },
        "id": "k8jDQocX_vUJ",
        "outputId": "55694b39-b9f8-40ed-d8bd-e5508833c7a3"
      },
      "execution_count": 12,
      "outputs": [
        {
          "output_type": "stream",
          "name": "stdout",
          "text": [
            "<class 'pandas.core.frame.DataFrame'>\n",
            "RangeIndex: 30000 entries, 0 to 29999\n",
            "Data columns (total 25 columns):\n",
            " #   Column                      Non-Null Count  Dtype\n",
            "---  ------                      --------------  -----\n",
            " 0   ID                          30000 non-null  int64\n",
            " 1   LIMIT_BAL                   30000 non-null  int64\n",
            " 2   SEX                         30000 non-null  int64\n",
            " 3   EDUCATION                   30000 non-null  int64\n",
            " 4   MARRIAGE                    30000 non-null  int64\n",
            " 5   AGE                         30000 non-null  int64\n",
            " 6   PAY_0                       30000 non-null  int64\n",
            " 7   PAY_2                       30000 non-null  int64\n",
            " 8   PAY_3                       30000 non-null  int64\n",
            " 9   PAY_4                       30000 non-null  int64\n",
            " 10  PAY_5                       30000 non-null  int64\n",
            " 11  PAY_6                       30000 non-null  int64\n",
            " 12  BILL_AMT1                   30000 non-null  int64\n",
            " 13  BILL_AMT2                   30000 non-null  int64\n",
            " 14  BILL_AMT3                   30000 non-null  int64\n",
            " 15  BILL_AMT4                   30000 non-null  int64\n",
            " 16  BILL_AMT5                   30000 non-null  int64\n",
            " 17  BILL_AMT6                   30000 non-null  int64\n",
            " 18  PAY_AMT1                    30000 non-null  int64\n",
            " 19  PAY_AMT2                    30000 non-null  int64\n",
            " 20  PAY_AMT3                    30000 non-null  int64\n",
            " 21  PAY_AMT4                    30000 non-null  int64\n",
            " 22  PAY_AMT5                    30000 non-null  int64\n",
            " 23  PAY_AMT6                    30000 non-null  int64\n",
            " 24  default payment next month  30000 non-null  int64\n",
            "dtypes: int64(25)\n",
            "memory usage: 5.7 MB\n"
          ]
        }
      ]
    },
    {
      "cell_type": "code",
      "source": [
        "data.isnull().sum()"
      ],
      "metadata": {
        "colab": {
          "base_uri": "https://localhost:8080/"
        },
        "id": "YVC8-iwK_-Me",
        "outputId": "4d333166-0f5c-4ae1-a8bb-ebe54082465c"
      },
      "execution_count": 13,
      "outputs": [
        {
          "output_type": "execute_result",
          "data": {
            "text/plain": [
              "ID                            0\n",
              "LIMIT_BAL                     0\n",
              "SEX                           0\n",
              "EDUCATION                     0\n",
              "MARRIAGE                      0\n",
              "AGE                           0\n",
              "PAY_0                         0\n",
              "PAY_2                         0\n",
              "PAY_3                         0\n",
              "PAY_4                         0\n",
              "PAY_5                         0\n",
              "PAY_6                         0\n",
              "BILL_AMT1                     0\n",
              "BILL_AMT2                     0\n",
              "BILL_AMT3                     0\n",
              "BILL_AMT4                     0\n",
              "BILL_AMT5                     0\n",
              "BILL_AMT6                     0\n",
              "PAY_AMT1                      0\n",
              "PAY_AMT2                      0\n",
              "PAY_AMT3                      0\n",
              "PAY_AMT4                      0\n",
              "PAY_AMT5                      0\n",
              "PAY_AMT6                      0\n",
              "default payment next month    0\n",
              "dtype: int64"
            ]
          },
          "metadata": {},
          "execution_count": 13
        }
      ]
    },
    {
      "cell_type": "code",
      "source": [
        "data.duplicated().sum()"
      ],
      "metadata": {
        "colab": {
          "base_uri": "https://localhost:8080/"
        },
        "id": "_rn5mT3xANwu",
        "outputId": "065a9ff3-682a-4885-ed13-14533d09db0d"
      },
      "execution_count": 14,
      "outputs": [
        {
          "output_type": "execute_result",
          "data": {
            "text/plain": [
              "0"
            ]
          },
          "metadata": {},
          "execution_count": 14
        }
      ]
    },
    {
      "cell_type": "code",
      "source": [
        "data2=data.copy()"
      ],
      "metadata": {
        "id": "bVQyp5cOBCrv"
      },
      "execution_count": 15,
      "outputs": []
    },
    {
      "cell_type": "code",
      "source": [
        "data.rename(columns={'PAY_0':'PAY_SEPT','PAY_2':'PAY_AUG','PAY_3':'PAY_JUL','PAY_4':'PAY_JUN','PAY_5':'PAY_MAY','PAY_6':'PAY_APR','BILL_AMT1':'BILL_AMT_SEPT','BILL_AMT2':'BILL_AMT_AUG','BILL_AMT3':'BILL_AMT_JUL','BILL_AMT4':'BILL_AMT_JUN','BILL_AMT5':'BILL_AMT_MAY','BILL_AMT6':'BILL_AMT_APR','PAY_AMT1':'PAY_AMT_SEPT','PAY_AMT2':'PAY_AMT_AUG','PAY_AMT3':'PAY_AMT_JUL','PAY_AMT4':'PAY_AMT_JUN','PAY_AMT5':'PAY_AMT_MAY','PAY_AMT6':'PAY_AMT_APR'}, inplace = True)"
      ],
      "metadata": {
        "id": "hcjHUn-1Bvxo"
      },
      "execution_count": 16,
      "outputs": []
    },
    {
      "cell_type": "code",
      "source": [
        "data.head()"
      ],
      "metadata": {
        "colab": {
          "base_uri": "https://localhost:8080/",
          "height": 352
        },
        "id": "0y_K4WOESzjK",
        "outputId": "bec7b682-926a-49e1-ceaa-4686a4e58ca9"
      },
      "execution_count": 17,
      "outputs": [
        {
          "output_type": "execute_result",
          "data": {
            "text/plain": [
              "   ID  LIMIT_BAL  SEX  EDUCATION  MARRIAGE  AGE  PAY_SEPT  PAY_AUG  PAY_JUL  \\\n",
              "0   1      20000    2          2         1   24         2        2       -1   \n",
              "1   2     120000    2          2         2   26        -1        2        0   \n",
              "2   3      90000    2          2         2   34         0        0        0   \n",
              "3   4      50000    2          2         1   37         0        0        0   \n",
              "4   5      50000    1          2         1   57        -1        0       -1   \n",
              "\n",
              "   PAY_JUN  ...  BILL_AMT_JUN  BILL_AMT_MAY  BILL_AMT_APR  PAY_AMT_SEPT  \\\n",
              "0       -1  ...             0             0             0             0   \n",
              "1        0  ...          3272          3455          3261             0   \n",
              "2        0  ...         14331         14948         15549          1518   \n",
              "3        0  ...         28314         28959         29547          2000   \n",
              "4        0  ...         20940         19146         19131          2000   \n",
              "\n",
              "   PAY_AMT_AUG  PAY_AMT_JUL  PAY_AMT_JUN  PAY_AMT_MAY  PAY_AMT_APR  \\\n",
              "0          689            0            0            0            0   \n",
              "1         1000         1000         1000            0         2000   \n",
              "2         1500         1000         1000         1000         5000   \n",
              "3         2019         1200         1100         1069         1000   \n",
              "4        36681        10000         9000          689          679   \n",
              "\n",
              "   default payment next month  \n",
              "0                           1  \n",
              "1                           1  \n",
              "2                           0  \n",
              "3                           0  \n",
              "4                           0  \n",
              "\n",
              "[5 rows x 25 columns]"
            ],
            "text/html": [
              "\n",
              "  <div id=\"df-57f9d9bf-bc9d-44a4-bd60-9e9cd1c19ca1\">\n",
              "    <div class=\"colab-df-container\">\n",
              "      <div>\n",
              "<style scoped>\n",
              "    .dataframe tbody tr th:only-of-type {\n",
              "        vertical-align: middle;\n",
              "    }\n",
              "\n",
              "    .dataframe tbody tr th {\n",
              "        vertical-align: top;\n",
              "    }\n",
              "\n",
              "    .dataframe thead th {\n",
              "        text-align: right;\n",
              "    }\n",
              "</style>\n",
              "<table border=\"1\" class=\"dataframe\">\n",
              "  <thead>\n",
              "    <tr style=\"text-align: right;\">\n",
              "      <th></th>\n",
              "      <th>ID</th>\n",
              "      <th>LIMIT_BAL</th>\n",
              "      <th>SEX</th>\n",
              "      <th>EDUCATION</th>\n",
              "      <th>MARRIAGE</th>\n",
              "      <th>AGE</th>\n",
              "      <th>PAY_SEPT</th>\n",
              "      <th>PAY_AUG</th>\n",
              "      <th>PAY_JUL</th>\n",
              "      <th>PAY_JUN</th>\n",
              "      <th>...</th>\n",
              "      <th>BILL_AMT_JUN</th>\n",
              "      <th>BILL_AMT_MAY</th>\n",
              "      <th>BILL_AMT_APR</th>\n",
              "      <th>PAY_AMT_SEPT</th>\n",
              "      <th>PAY_AMT_AUG</th>\n",
              "      <th>PAY_AMT_JUL</th>\n",
              "      <th>PAY_AMT_JUN</th>\n",
              "      <th>PAY_AMT_MAY</th>\n",
              "      <th>PAY_AMT_APR</th>\n",
              "      <th>default payment next month</th>\n",
              "    </tr>\n",
              "  </thead>\n",
              "  <tbody>\n",
              "    <tr>\n",
              "      <th>0</th>\n",
              "      <td>1</td>\n",
              "      <td>20000</td>\n",
              "      <td>2</td>\n",
              "      <td>2</td>\n",
              "      <td>1</td>\n",
              "      <td>24</td>\n",
              "      <td>2</td>\n",
              "      <td>2</td>\n",
              "      <td>-1</td>\n",
              "      <td>-1</td>\n",
              "      <td>...</td>\n",
              "      <td>0</td>\n",
              "      <td>0</td>\n",
              "      <td>0</td>\n",
              "      <td>0</td>\n",
              "      <td>689</td>\n",
              "      <td>0</td>\n",
              "      <td>0</td>\n",
              "      <td>0</td>\n",
              "      <td>0</td>\n",
              "      <td>1</td>\n",
              "    </tr>\n",
              "    <tr>\n",
              "      <th>1</th>\n",
              "      <td>2</td>\n",
              "      <td>120000</td>\n",
              "      <td>2</td>\n",
              "      <td>2</td>\n",
              "      <td>2</td>\n",
              "      <td>26</td>\n",
              "      <td>-1</td>\n",
              "      <td>2</td>\n",
              "      <td>0</td>\n",
              "      <td>0</td>\n",
              "      <td>...</td>\n",
              "      <td>3272</td>\n",
              "      <td>3455</td>\n",
              "      <td>3261</td>\n",
              "      <td>0</td>\n",
              "      <td>1000</td>\n",
              "      <td>1000</td>\n",
              "      <td>1000</td>\n",
              "      <td>0</td>\n",
              "      <td>2000</td>\n",
              "      <td>1</td>\n",
              "    </tr>\n",
              "    <tr>\n",
              "      <th>2</th>\n",
              "      <td>3</td>\n",
              "      <td>90000</td>\n",
              "      <td>2</td>\n",
              "      <td>2</td>\n",
              "      <td>2</td>\n",
              "      <td>34</td>\n",
              "      <td>0</td>\n",
              "      <td>0</td>\n",
              "      <td>0</td>\n",
              "      <td>0</td>\n",
              "      <td>...</td>\n",
              "      <td>14331</td>\n",
              "      <td>14948</td>\n",
              "      <td>15549</td>\n",
              "      <td>1518</td>\n",
              "      <td>1500</td>\n",
              "      <td>1000</td>\n",
              "      <td>1000</td>\n",
              "      <td>1000</td>\n",
              "      <td>5000</td>\n",
              "      <td>0</td>\n",
              "    </tr>\n",
              "    <tr>\n",
              "      <th>3</th>\n",
              "      <td>4</td>\n",
              "      <td>50000</td>\n",
              "      <td>2</td>\n",
              "      <td>2</td>\n",
              "      <td>1</td>\n",
              "      <td>37</td>\n",
              "      <td>0</td>\n",
              "      <td>0</td>\n",
              "      <td>0</td>\n",
              "      <td>0</td>\n",
              "      <td>...</td>\n",
              "      <td>28314</td>\n",
              "      <td>28959</td>\n",
              "      <td>29547</td>\n",
              "      <td>2000</td>\n",
              "      <td>2019</td>\n",
              "      <td>1200</td>\n",
              "      <td>1100</td>\n",
              "      <td>1069</td>\n",
              "      <td>1000</td>\n",
              "      <td>0</td>\n",
              "    </tr>\n",
              "    <tr>\n",
              "      <th>4</th>\n",
              "      <td>5</td>\n",
              "      <td>50000</td>\n",
              "      <td>1</td>\n",
              "      <td>2</td>\n",
              "      <td>1</td>\n",
              "      <td>57</td>\n",
              "      <td>-1</td>\n",
              "      <td>0</td>\n",
              "      <td>-1</td>\n",
              "      <td>0</td>\n",
              "      <td>...</td>\n",
              "      <td>20940</td>\n",
              "      <td>19146</td>\n",
              "      <td>19131</td>\n",
              "      <td>2000</td>\n",
              "      <td>36681</td>\n",
              "      <td>10000</td>\n",
              "      <td>9000</td>\n",
              "      <td>689</td>\n",
              "      <td>679</td>\n",
              "      <td>0</td>\n",
              "    </tr>\n",
              "  </tbody>\n",
              "</table>\n",
              "<p>5 rows × 25 columns</p>\n",
              "</div>\n",
              "      <button class=\"colab-df-convert\" onclick=\"convertToInteractive('df-57f9d9bf-bc9d-44a4-bd60-9e9cd1c19ca1')\"\n",
              "              title=\"Convert this dataframe to an interactive table.\"\n",
              "              style=\"display:none;\">\n",
              "        \n",
              "  <svg xmlns=\"http://www.w3.org/2000/svg\" height=\"24px\"viewBox=\"0 0 24 24\"\n",
              "       width=\"24px\">\n",
              "    <path d=\"M0 0h24v24H0V0z\" fill=\"none\"/>\n",
              "    <path d=\"M18.56 5.44l.94 2.06.94-2.06 2.06-.94-2.06-.94-.94-2.06-.94 2.06-2.06.94zm-11 1L8.5 8.5l.94-2.06 2.06-.94-2.06-.94L8.5 2.5l-.94 2.06-2.06.94zm10 10l.94 2.06.94-2.06 2.06-.94-2.06-.94-.94-2.06-.94 2.06-2.06.94z\"/><path d=\"M17.41 7.96l-1.37-1.37c-.4-.4-.92-.59-1.43-.59-.52 0-1.04.2-1.43.59L10.3 9.45l-7.72 7.72c-.78.78-.78 2.05 0 2.83L4 21.41c.39.39.9.59 1.41.59.51 0 1.02-.2 1.41-.59l7.78-7.78 2.81-2.81c.8-.78.8-2.07 0-2.86zM5.41 20L4 18.59l7.72-7.72 1.47 1.35L5.41 20z\"/>\n",
              "  </svg>\n",
              "      </button>\n",
              "      \n",
              "  <style>\n",
              "    .colab-df-container {\n",
              "      display:flex;\n",
              "      flex-wrap:wrap;\n",
              "      gap: 12px;\n",
              "    }\n",
              "\n",
              "    .colab-df-convert {\n",
              "      background-color: #E8F0FE;\n",
              "      border: none;\n",
              "      border-radius: 50%;\n",
              "      cursor: pointer;\n",
              "      display: none;\n",
              "      fill: #1967D2;\n",
              "      height: 32px;\n",
              "      padding: 0 0 0 0;\n",
              "      width: 32px;\n",
              "    }\n",
              "\n",
              "    .colab-df-convert:hover {\n",
              "      background-color: #E2EBFA;\n",
              "      box-shadow: 0px 1px 2px rgba(60, 64, 67, 0.3), 0px 1px 3px 1px rgba(60, 64, 67, 0.15);\n",
              "      fill: #174EA6;\n",
              "    }\n",
              "\n",
              "    [theme=dark] .colab-df-convert {\n",
              "      background-color: #3B4455;\n",
              "      fill: #D2E3FC;\n",
              "    }\n",
              "\n",
              "    [theme=dark] .colab-df-convert:hover {\n",
              "      background-color: #434B5C;\n",
              "      box-shadow: 0px 1px 3px 1px rgba(0, 0, 0, 0.15);\n",
              "      filter: drop-shadow(0px 1px 2px rgba(0, 0, 0, 0.3));\n",
              "      fill: #FFFFFF;\n",
              "    }\n",
              "  </style>\n",
              "\n",
              "      <script>\n",
              "        const buttonEl =\n",
              "          document.querySelector('#df-57f9d9bf-bc9d-44a4-bd60-9e9cd1c19ca1 button.colab-df-convert');\n",
              "        buttonEl.style.display =\n",
              "          google.colab.kernel.accessAllowed ? 'block' : 'none';\n",
              "\n",
              "        async function convertToInteractive(key) {\n",
              "          const element = document.querySelector('#df-57f9d9bf-bc9d-44a4-bd60-9e9cd1c19ca1');\n",
              "          const dataTable =\n",
              "            await google.colab.kernel.invokeFunction('convertToInteractive',\n",
              "                                                     [key], {});\n",
              "          if (!dataTable) return;\n",
              "\n",
              "          const docLinkHtml = 'Like what you see? Visit the ' +\n",
              "            '<a target=\"_blank\" href=https://colab.research.google.com/notebooks/data_table.ipynb>data table notebook</a>'\n",
              "            + ' to learn more about interactive tables.';\n",
              "          element.innerHTML = '';\n",
              "          dataTable['output_type'] = 'display_data';\n",
              "          await google.colab.output.renderOutput(dataTable, element);\n",
              "          const docLink = document.createElement('div');\n",
              "          docLink.innerHTML = docLinkHtml;\n",
              "          element.appendChild(docLink);\n",
              "        }\n",
              "      </script>\n",
              "    </div>\n",
              "  </div>\n",
              "  "
            ]
          },
          "metadata": {},
          "execution_count": 17
        }
      ]
    },
    {
      "cell_type": "code",
      "source": [
        "data.corr()"
      ],
      "metadata": {
        "colab": {
          "base_uri": "https://localhost:8080/",
          "height": 996
        },
        "id": "t146t7mNTDDR",
        "outputId": "3ba69bc8-c488-4abb-9dbe-a2b82ebda8da"
      },
      "execution_count": 18,
      "outputs": [
        {
          "output_type": "execute_result",
          "data": {
            "text/plain": [
              "                                  ID  LIMIT_BAL       SEX  EDUCATION  \\\n",
              "ID                          1.000000   0.026179  0.018497   0.039177   \n",
              "LIMIT_BAL                   0.026179   1.000000  0.024755  -0.219161   \n",
              "SEX                         0.018497   0.024755  1.000000   0.014232   \n",
              "EDUCATION                   0.039177  -0.219161  0.014232   1.000000   \n",
              "MARRIAGE                   -0.029079  -0.108139 -0.031389  -0.143464   \n",
              "AGE                         0.018678   0.144713 -0.090874   0.175061   \n",
              "PAY_SEPT                   -0.030575  -0.271214 -0.057643   0.105364   \n",
              "PAY_AUG                    -0.011215  -0.296382 -0.070771   0.121566   \n",
              "PAY_JUL                    -0.018494  -0.286123 -0.066096   0.114025   \n",
              "PAY_JUN                    -0.002735  -0.267460 -0.060173   0.108793   \n",
              "PAY_MAY                    -0.022199  -0.249411 -0.055064   0.097520   \n",
              "PAY_APR                    -0.020270  -0.235195 -0.044008   0.082316   \n",
              "BILL_AMT_SEPT               0.019389   0.285430 -0.033642   0.023581   \n",
              "BILL_AMT_AUG                0.017982   0.278314 -0.031183   0.018749   \n",
              "BILL_AMT_JUL                0.024354   0.283236 -0.024563   0.013002   \n",
              "BILL_AMT_JUN                0.040351   0.293988 -0.021880  -0.000451   \n",
              "BILL_AMT_MAY                0.016705   0.295562 -0.017005  -0.007567   \n",
              "BILL_AMT_APR                0.016730   0.290389 -0.016733  -0.009099   \n",
              "PAY_AMT_SEPT                0.009742   0.195236 -0.000242  -0.037456   \n",
              "PAY_AMT_AUG                 0.008406   0.178408 -0.001391  -0.030038   \n",
              "PAY_AMT_JUL                 0.039151   0.210167 -0.008597  -0.039943   \n",
              "PAY_AMT_JUN                 0.007793   0.203242 -0.002229  -0.038218   \n",
              "PAY_AMT_MAY                 0.000652   0.217202 -0.001667  -0.040358   \n",
              "PAY_AMT_APR                 0.003000   0.219595 -0.002766  -0.037200   \n",
              "default payment next month -0.013952  -0.153520 -0.039961   0.028006   \n",
              "\n",
              "                            MARRIAGE       AGE  PAY_SEPT   PAY_AUG   PAY_JUL  \\\n",
              "ID                         -0.029079  0.018678 -0.030575 -0.011215 -0.018494   \n",
              "LIMIT_BAL                  -0.108139  0.144713 -0.271214 -0.296382 -0.286123   \n",
              "SEX                        -0.031389 -0.090874 -0.057643 -0.070771 -0.066096   \n",
              "EDUCATION                  -0.143464  0.175061  0.105364  0.121566  0.114025   \n",
              "MARRIAGE                    1.000000 -0.414170  0.019917  0.024199  0.032688   \n",
              "AGE                        -0.414170  1.000000 -0.039447 -0.050148 -0.053048   \n",
              "PAY_SEPT                    0.019917 -0.039447  1.000000  0.672164  0.574245   \n",
              "PAY_AUG                     0.024199 -0.050148  0.672164  1.000000  0.766552   \n",
              "PAY_JUL                     0.032688 -0.053048  0.574245  0.766552  1.000000   \n",
              "PAY_JUN                     0.033122 -0.049722  0.538841  0.662067  0.777359   \n",
              "PAY_MAY                     0.035629 -0.053826  0.509426  0.622780  0.686775   \n",
              "PAY_APR                     0.034345 -0.048773  0.474553  0.575501  0.632684   \n",
              "BILL_AMT_SEPT              -0.023472  0.056239  0.187068  0.234887  0.208473   \n",
              "BILL_AMT_AUG               -0.021602  0.054283  0.189859  0.235257  0.237295   \n",
              "BILL_AMT_JUL               -0.024909  0.053710  0.179785  0.224146  0.227494   \n",
              "BILL_AMT_JUN               -0.023344  0.051353  0.179125  0.222237  0.227202   \n",
              "BILL_AMT_MAY               -0.025393  0.049345  0.180635  0.221348  0.225145   \n",
              "BILL_AMT_APR               -0.021207  0.047613  0.176980  0.219403  0.222327   \n",
              "PAY_AMT_SEPT               -0.005979  0.026147 -0.079269 -0.080701  0.001295   \n",
              "PAY_AMT_AUG                -0.008093  0.021785 -0.070101 -0.058990 -0.066793   \n",
              "PAY_AMT_JUL                -0.003541  0.029247 -0.070561 -0.055901 -0.053311   \n",
              "PAY_AMT_JUN                -0.012659  0.021379 -0.064005 -0.046858 -0.046067   \n",
              "PAY_AMT_MAY                -0.001205  0.022850 -0.058190 -0.037093 -0.035863   \n",
              "PAY_AMT_APR                -0.006641  0.019478 -0.058673 -0.036500 -0.035861   \n",
              "default payment next month -0.024339  0.013890  0.324794  0.263551  0.235253   \n",
              "\n",
              "                             PAY_JUN  ...  BILL_AMT_JUN  BILL_AMT_MAY  \\\n",
              "ID                         -0.002735  ...      0.040351      0.016705   \n",
              "LIMIT_BAL                  -0.267460  ...      0.293988      0.295562   \n",
              "SEX                        -0.060173  ...     -0.021880     -0.017005   \n",
              "EDUCATION                   0.108793  ...     -0.000451     -0.007567   \n",
              "MARRIAGE                    0.033122  ...     -0.023344     -0.025393   \n",
              "AGE                        -0.049722  ...      0.051353      0.049345   \n",
              "PAY_SEPT                    0.538841  ...      0.179125      0.180635   \n",
              "PAY_AUG                     0.662067  ...      0.222237      0.221348   \n",
              "PAY_JUL                     0.777359  ...      0.227202      0.225145   \n",
              "PAY_JUN                     1.000000  ...      0.245917      0.242902   \n",
              "PAY_MAY                     0.819835  ...      0.271915      0.269783   \n",
              "PAY_APR                     0.716449  ...      0.266356      0.290894   \n",
              "BILL_AMT_SEPT               0.202812  ...      0.860272      0.829779   \n",
              "BILL_AMT_AUG                0.225816  ...      0.892482      0.859778   \n",
              "BILL_AMT_JUL                0.244983  ...      0.923969      0.883910   \n",
              "BILL_AMT_JUN                0.245917  ...      1.000000      0.940134   \n",
              "BILL_AMT_MAY                0.242902  ...      0.940134      1.000000   \n",
              "BILL_AMT_APR                0.239154  ...      0.900941      0.946197   \n",
              "PAY_AMT_SEPT               -0.009362  ...      0.233012      0.217031   \n",
              "PAY_AMT_AUG                -0.001944  ...      0.207564      0.181246   \n",
              "PAY_AMT_JUL                -0.069235  ...      0.300023      0.252305   \n",
              "PAY_AMT_JUN                -0.043461  ...      0.130191      0.293118   \n",
              "PAY_AMT_MAY                -0.033590  ...      0.160433      0.141574   \n",
              "PAY_AMT_APR                -0.026565  ...      0.177637      0.164184   \n",
              "default payment next month  0.216614  ...     -0.010156     -0.006760   \n",
              "\n",
              "                            BILL_AMT_APR  PAY_AMT_SEPT  PAY_AMT_AUG  \\\n",
              "ID                              0.016730      0.009742     0.008406   \n",
              "LIMIT_BAL                       0.290389      0.195236     0.178408   \n",
              "SEX                            -0.016733     -0.000242    -0.001391   \n",
              "EDUCATION                      -0.009099     -0.037456    -0.030038   \n",
              "MARRIAGE                       -0.021207     -0.005979    -0.008093   \n",
              "AGE                             0.047613      0.026147     0.021785   \n",
              "PAY_SEPT                        0.176980     -0.079269    -0.070101   \n",
              "PAY_AUG                         0.219403     -0.080701    -0.058990   \n",
              "PAY_JUL                         0.222327      0.001295    -0.066793   \n",
              "PAY_JUN                         0.239154     -0.009362    -0.001944   \n",
              "PAY_MAY                         0.262509     -0.006089    -0.003191   \n",
              "PAY_APR                         0.285091     -0.001496    -0.005223   \n",
              "BILL_AMT_SEPT                   0.802650      0.140277     0.099355   \n",
              "BILL_AMT_AUG                    0.831594      0.280365     0.100851   \n",
              "BILL_AMT_JUL                    0.853320      0.244335     0.316936   \n",
              "BILL_AMT_JUN                    0.900941      0.233012     0.207564   \n",
              "BILL_AMT_MAY                    0.946197      0.217031     0.181246   \n",
              "BILL_AMT_APR                    1.000000      0.199965     0.172663   \n",
              "PAY_AMT_SEPT                    0.199965      1.000000     0.285576   \n",
              "PAY_AMT_AUG                     0.172663      0.285576     1.000000   \n",
              "PAY_AMT_JUL                     0.233770      0.252191     0.244770   \n",
              "PAY_AMT_JUN                     0.250237      0.199558     0.180107   \n",
              "PAY_AMT_MAY                     0.307729      0.148459     0.180908   \n",
              "PAY_AMT_APR                     0.115494      0.185735     0.157634   \n",
              "default payment next month     -0.005372     -0.072929    -0.058579   \n",
              "\n",
              "                            PAY_AMT_JUL  PAY_AMT_JUN  PAY_AMT_MAY  \\\n",
              "ID                             0.039151     0.007793     0.000652   \n",
              "LIMIT_BAL                      0.210167     0.203242     0.217202   \n",
              "SEX                           -0.008597    -0.002229    -0.001667   \n",
              "EDUCATION                     -0.039943    -0.038218    -0.040358   \n",
              "MARRIAGE                      -0.003541    -0.012659    -0.001205   \n",
              "AGE                            0.029247     0.021379     0.022850   \n",
              "PAY_SEPT                      -0.070561    -0.064005    -0.058190   \n",
              "PAY_AUG                       -0.055901    -0.046858    -0.037093   \n",
              "PAY_JUL                       -0.053311    -0.046067    -0.035863   \n",
              "PAY_JUN                       -0.069235    -0.043461    -0.033590   \n",
              "PAY_MAY                        0.009062    -0.058299    -0.033337   \n",
              "PAY_APR                        0.005834     0.019018    -0.046434   \n",
              "BILL_AMT_SEPT                  0.156887     0.158303     0.167026   \n",
              "BILL_AMT_AUG                   0.150718     0.147398     0.157957   \n",
              "BILL_AMT_JUL                   0.130011     0.143405     0.179712   \n",
              "BILL_AMT_JUN                   0.300023     0.130191     0.160433   \n",
              "BILL_AMT_MAY                   0.252305     0.293118     0.141574   \n",
              "BILL_AMT_APR                   0.233770     0.250237     0.307729   \n",
              "PAY_AMT_SEPT                   0.252191     0.199558     0.148459   \n",
              "PAY_AMT_AUG                    0.244770     0.180107     0.180908   \n",
              "PAY_AMT_JUL                    1.000000     0.216325     0.159214   \n",
              "PAY_AMT_JUN                    0.216325     1.000000     0.151830   \n",
              "PAY_AMT_MAY                    0.159214     0.151830     1.000000   \n",
              "PAY_AMT_APR                    0.162740     0.157834     0.154896   \n",
              "default payment next month    -0.056250    -0.056827    -0.055124   \n",
              "\n",
              "                            PAY_AMT_APR  default payment next month  \n",
              "ID                             0.003000                   -0.013952  \n",
              "LIMIT_BAL                      0.219595                   -0.153520  \n",
              "SEX                           -0.002766                   -0.039961  \n",
              "EDUCATION                     -0.037200                    0.028006  \n",
              "MARRIAGE                      -0.006641                   -0.024339  \n",
              "AGE                            0.019478                    0.013890  \n",
              "PAY_SEPT                      -0.058673                    0.324794  \n",
              "PAY_AUG                       -0.036500                    0.263551  \n",
              "PAY_JUL                       -0.035861                    0.235253  \n",
              "PAY_JUN                       -0.026565                    0.216614  \n",
              "PAY_MAY                       -0.023027                    0.204149  \n",
              "PAY_APR                       -0.025299                    0.186866  \n",
              "BILL_AMT_SEPT                  0.179341                   -0.019644  \n",
              "BILL_AMT_AUG                   0.174256                   -0.014193  \n",
              "BILL_AMT_JUL                   0.182326                   -0.014076  \n",
              "BILL_AMT_JUN                   0.177637                   -0.010156  \n",
              "BILL_AMT_MAY                   0.164184                   -0.006760  \n",
              "BILL_AMT_APR                   0.115494                   -0.005372  \n",
              "PAY_AMT_SEPT                   0.185735                   -0.072929  \n",
              "PAY_AMT_AUG                    0.157634                   -0.058579  \n",
              "PAY_AMT_JUL                    0.162740                   -0.056250  \n",
              "PAY_AMT_JUN                    0.157834                   -0.056827  \n",
              "PAY_AMT_MAY                    0.154896                   -0.055124  \n",
              "PAY_AMT_APR                    1.000000                   -0.053183  \n",
              "default payment next month    -0.053183                    1.000000  \n",
              "\n",
              "[25 rows x 25 columns]"
            ],
            "text/html": [
              "\n",
              "  <div id=\"df-5cdfee65-be77-448a-b50b-236b85be689b\">\n",
              "    <div class=\"colab-df-container\">\n",
              "      <div>\n",
              "<style scoped>\n",
              "    .dataframe tbody tr th:only-of-type {\n",
              "        vertical-align: middle;\n",
              "    }\n",
              "\n",
              "    .dataframe tbody tr th {\n",
              "        vertical-align: top;\n",
              "    }\n",
              "\n",
              "    .dataframe thead th {\n",
              "        text-align: right;\n",
              "    }\n",
              "</style>\n",
              "<table border=\"1\" class=\"dataframe\">\n",
              "  <thead>\n",
              "    <tr style=\"text-align: right;\">\n",
              "      <th></th>\n",
              "      <th>ID</th>\n",
              "      <th>LIMIT_BAL</th>\n",
              "      <th>SEX</th>\n",
              "      <th>EDUCATION</th>\n",
              "      <th>MARRIAGE</th>\n",
              "      <th>AGE</th>\n",
              "      <th>PAY_SEPT</th>\n",
              "      <th>PAY_AUG</th>\n",
              "      <th>PAY_JUL</th>\n",
              "      <th>PAY_JUN</th>\n",
              "      <th>...</th>\n",
              "      <th>BILL_AMT_JUN</th>\n",
              "      <th>BILL_AMT_MAY</th>\n",
              "      <th>BILL_AMT_APR</th>\n",
              "      <th>PAY_AMT_SEPT</th>\n",
              "      <th>PAY_AMT_AUG</th>\n",
              "      <th>PAY_AMT_JUL</th>\n",
              "      <th>PAY_AMT_JUN</th>\n",
              "      <th>PAY_AMT_MAY</th>\n",
              "      <th>PAY_AMT_APR</th>\n",
              "      <th>default payment next month</th>\n",
              "    </tr>\n",
              "  </thead>\n",
              "  <tbody>\n",
              "    <tr>\n",
              "      <th>ID</th>\n",
              "      <td>1.000000</td>\n",
              "      <td>0.026179</td>\n",
              "      <td>0.018497</td>\n",
              "      <td>0.039177</td>\n",
              "      <td>-0.029079</td>\n",
              "      <td>0.018678</td>\n",
              "      <td>-0.030575</td>\n",
              "      <td>-0.011215</td>\n",
              "      <td>-0.018494</td>\n",
              "      <td>-0.002735</td>\n",
              "      <td>...</td>\n",
              "      <td>0.040351</td>\n",
              "      <td>0.016705</td>\n",
              "      <td>0.016730</td>\n",
              "      <td>0.009742</td>\n",
              "      <td>0.008406</td>\n",
              "      <td>0.039151</td>\n",
              "      <td>0.007793</td>\n",
              "      <td>0.000652</td>\n",
              "      <td>0.003000</td>\n",
              "      <td>-0.013952</td>\n",
              "    </tr>\n",
              "    <tr>\n",
              "      <th>LIMIT_BAL</th>\n",
              "      <td>0.026179</td>\n",
              "      <td>1.000000</td>\n",
              "      <td>0.024755</td>\n",
              "      <td>-0.219161</td>\n",
              "      <td>-0.108139</td>\n",
              "      <td>0.144713</td>\n",
              "      <td>-0.271214</td>\n",
              "      <td>-0.296382</td>\n",
              "      <td>-0.286123</td>\n",
              "      <td>-0.267460</td>\n",
              "      <td>...</td>\n",
              "      <td>0.293988</td>\n",
              "      <td>0.295562</td>\n",
              "      <td>0.290389</td>\n",
              "      <td>0.195236</td>\n",
              "      <td>0.178408</td>\n",
              "      <td>0.210167</td>\n",
              "      <td>0.203242</td>\n",
              "      <td>0.217202</td>\n",
              "      <td>0.219595</td>\n",
              "      <td>-0.153520</td>\n",
              "    </tr>\n",
              "    <tr>\n",
              "      <th>SEX</th>\n",
              "      <td>0.018497</td>\n",
              "      <td>0.024755</td>\n",
              "      <td>1.000000</td>\n",
              "      <td>0.014232</td>\n",
              "      <td>-0.031389</td>\n",
              "      <td>-0.090874</td>\n",
              "      <td>-0.057643</td>\n",
              "      <td>-0.070771</td>\n",
              "      <td>-0.066096</td>\n",
              "      <td>-0.060173</td>\n",
              "      <td>...</td>\n",
              "      <td>-0.021880</td>\n",
              "      <td>-0.017005</td>\n",
              "      <td>-0.016733</td>\n",
              "      <td>-0.000242</td>\n",
              "      <td>-0.001391</td>\n",
              "      <td>-0.008597</td>\n",
              "      <td>-0.002229</td>\n",
              "      <td>-0.001667</td>\n",
              "      <td>-0.002766</td>\n",
              "      <td>-0.039961</td>\n",
              "    </tr>\n",
              "    <tr>\n",
              "      <th>EDUCATION</th>\n",
              "      <td>0.039177</td>\n",
              "      <td>-0.219161</td>\n",
              "      <td>0.014232</td>\n",
              "      <td>1.000000</td>\n",
              "      <td>-0.143464</td>\n",
              "      <td>0.175061</td>\n",
              "      <td>0.105364</td>\n",
              "      <td>0.121566</td>\n",
              "      <td>0.114025</td>\n",
              "      <td>0.108793</td>\n",
              "      <td>...</td>\n",
              "      <td>-0.000451</td>\n",
              "      <td>-0.007567</td>\n",
              "      <td>-0.009099</td>\n",
              "      <td>-0.037456</td>\n",
              "      <td>-0.030038</td>\n",
              "      <td>-0.039943</td>\n",
              "      <td>-0.038218</td>\n",
              "      <td>-0.040358</td>\n",
              "      <td>-0.037200</td>\n",
              "      <td>0.028006</td>\n",
              "    </tr>\n",
              "    <tr>\n",
              "      <th>MARRIAGE</th>\n",
              "      <td>-0.029079</td>\n",
              "      <td>-0.108139</td>\n",
              "      <td>-0.031389</td>\n",
              "      <td>-0.143464</td>\n",
              "      <td>1.000000</td>\n",
              "      <td>-0.414170</td>\n",
              "      <td>0.019917</td>\n",
              "      <td>0.024199</td>\n",
              "      <td>0.032688</td>\n",
              "      <td>0.033122</td>\n",
              "      <td>...</td>\n",
              "      <td>-0.023344</td>\n",
              "      <td>-0.025393</td>\n",
              "      <td>-0.021207</td>\n",
              "      <td>-0.005979</td>\n",
              "      <td>-0.008093</td>\n",
              "      <td>-0.003541</td>\n",
              "      <td>-0.012659</td>\n",
              "      <td>-0.001205</td>\n",
              "      <td>-0.006641</td>\n",
              "      <td>-0.024339</td>\n",
              "    </tr>\n",
              "    <tr>\n",
              "      <th>AGE</th>\n",
              "      <td>0.018678</td>\n",
              "      <td>0.144713</td>\n",
              "      <td>-0.090874</td>\n",
              "      <td>0.175061</td>\n",
              "      <td>-0.414170</td>\n",
              "      <td>1.000000</td>\n",
              "      <td>-0.039447</td>\n",
              "      <td>-0.050148</td>\n",
              "      <td>-0.053048</td>\n",
              "      <td>-0.049722</td>\n",
              "      <td>...</td>\n",
              "      <td>0.051353</td>\n",
              "      <td>0.049345</td>\n",
              "      <td>0.047613</td>\n",
              "      <td>0.026147</td>\n",
              "      <td>0.021785</td>\n",
              "      <td>0.029247</td>\n",
              "      <td>0.021379</td>\n",
              "      <td>0.022850</td>\n",
              "      <td>0.019478</td>\n",
              "      <td>0.013890</td>\n",
              "    </tr>\n",
              "    <tr>\n",
              "      <th>PAY_SEPT</th>\n",
              "      <td>-0.030575</td>\n",
              "      <td>-0.271214</td>\n",
              "      <td>-0.057643</td>\n",
              "      <td>0.105364</td>\n",
              "      <td>0.019917</td>\n",
              "      <td>-0.039447</td>\n",
              "      <td>1.000000</td>\n",
              "      <td>0.672164</td>\n",
              "      <td>0.574245</td>\n",
              "      <td>0.538841</td>\n",
              "      <td>...</td>\n",
              "      <td>0.179125</td>\n",
              "      <td>0.180635</td>\n",
              "      <td>0.176980</td>\n",
              "      <td>-0.079269</td>\n",
              "      <td>-0.070101</td>\n",
              "      <td>-0.070561</td>\n",
              "      <td>-0.064005</td>\n",
              "      <td>-0.058190</td>\n",
              "      <td>-0.058673</td>\n",
              "      <td>0.324794</td>\n",
              "    </tr>\n",
              "    <tr>\n",
              "      <th>PAY_AUG</th>\n",
              "      <td>-0.011215</td>\n",
              "      <td>-0.296382</td>\n",
              "      <td>-0.070771</td>\n",
              "      <td>0.121566</td>\n",
              "      <td>0.024199</td>\n",
              "      <td>-0.050148</td>\n",
              "      <td>0.672164</td>\n",
              "      <td>1.000000</td>\n",
              "      <td>0.766552</td>\n",
              "      <td>0.662067</td>\n",
              "      <td>...</td>\n",
              "      <td>0.222237</td>\n",
              "      <td>0.221348</td>\n",
              "      <td>0.219403</td>\n",
              "      <td>-0.080701</td>\n",
              "      <td>-0.058990</td>\n",
              "      <td>-0.055901</td>\n",
              "      <td>-0.046858</td>\n",
              "      <td>-0.037093</td>\n",
              "      <td>-0.036500</td>\n",
              "      <td>0.263551</td>\n",
              "    </tr>\n",
              "    <tr>\n",
              "      <th>PAY_JUL</th>\n",
              "      <td>-0.018494</td>\n",
              "      <td>-0.286123</td>\n",
              "      <td>-0.066096</td>\n",
              "      <td>0.114025</td>\n",
              "      <td>0.032688</td>\n",
              "      <td>-0.053048</td>\n",
              "      <td>0.574245</td>\n",
              "      <td>0.766552</td>\n",
              "      <td>1.000000</td>\n",
              "      <td>0.777359</td>\n",
              "      <td>...</td>\n",
              "      <td>0.227202</td>\n",
              "      <td>0.225145</td>\n",
              "      <td>0.222327</td>\n",
              "      <td>0.001295</td>\n",
              "      <td>-0.066793</td>\n",
              "      <td>-0.053311</td>\n",
              "      <td>-0.046067</td>\n",
              "      <td>-0.035863</td>\n",
              "      <td>-0.035861</td>\n",
              "      <td>0.235253</td>\n",
              "    </tr>\n",
              "    <tr>\n",
              "      <th>PAY_JUN</th>\n",
              "      <td>-0.002735</td>\n",
              "      <td>-0.267460</td>\n",
              "      <td>-0.060173</td>\n",
              "      <td>0.108793</td>\n",
              "      <td>0.033122</td>\n",
              "      <td>-0.049722</td>\n",
              "      <td>0.538841</td>\n",
              "      <td>0.662067</td>\n",
              "      <td>0.777359</td>\n",
              "      <td>1.000000</td>\n",
              "      <td>...</td>\n",
              "      <td>0.245917</td>\n",
              "      <td>0.242902</td>\n",
              "      <td>0.239154</td>\n",
              "      <td>-0.009362</td>\n",
              "      <td>-0.001944</td>\n",
              "      <td>-0.069235</td>\n",
              "      <td>-0.043461</td>\n",
              "      <td>-0.033590</td>\n",
              "      <td>-0.026565</td>\n",
              "      <td>0.216614</td>\n",
              "    </tr>\n",
              "    <tr>\n",
              "      <th>PAY_MAY</th>\n",
              "      <td>-0.022199</td>\n",
              "      <td>-0.249411</td>\n",
              "      <td>-0.055064</td>\n",
              "      <td>0.097520</td>\n",
              "      <td>0.035629</td>\n",
              "      <td>-0.053826</td>\n",
              "      <td>0.509426</td>\n",
              "      <td>0.622780</td>\n",
              "      <td>0.686775</td>\n",
              "      <td>0.819835</td>\n",
              "      <td>...</td>\n",
              "      <td>0.271915</td>\n",
              "      <td>0.269783</td>\n",
              "      <td>0.262509</td>\n",
              "      <td>-0.006089</td>\n",
              "      <td>-0.003191</td>\n",
              "      <td>0.009062</td>\n",
              "      <td>-0.058299</td>\n",
              "      <td>-0.033337</td>\n",
              "      <td>-0.023027</td>\n",
              "      <td>0.204149</td>\n",
              "    </tr>\n",
              "    <tr>\n",
              "      <th>PAY_APR</th>\n",
              "      <td>-0.020270</td>\n",
              "      <td>-0.235195</td>\n",
              "      <td>-0.044008</td>\n",
              "      <td>0.082316</td>\n",
              "      <td>0.034345</td>\n",
              "      <td>-0.048773</td>\n",
              "      <td>0.474553</td>\n",
              "      <td>0.575501</td>\n",
              "      <td>0.632684</td>\n",
              "      <td>0.716449</td>\n",
              "      <td>...</td>\n",
              "      <td>0.266356</td>\n",
              "      <td>0.290894</td>\n",
              "      <td>0.285091</td>\n",
              "      <td>-0.001496</td>\n",
              "      <td>-0.005223</td>\n",
              "      <td>0.005834</td>\n",
              "      <td>0.019018</td>\n",
              "      <td>-0.046434</td>\n",
              "      <td>-0.025299</td>\n",
              "      <td>0.186866</td>\n",
              "    </tr>\n",
              "    <tr>\n",
              "      <th>BILL_AMT_SEPT</th>\n",
              "      <td>0.019389</td>\n",
              "      <td>0.285430</td>\n",
              "      <td>-0.033642</td>\n",
              "      <td>0.023581</td>\n",
              "      <td>-0.023472</td>\n",
              "      <td>0.056239</td>\n",
              "      <td>0.187068</td>\n",
              "      <td>0.234887</td>\n",
              "      <td>0.208473</td>\n",
              "      <td>0.202812</td>\n",
              "      <td>...</td>\n",
              "      <td>0.860272</td>\n",
              "      <td>0.829779</td>\n",
              "      <td>0.802650</td>\n",
              "      <td>0.140277</td>\n",
              "      <td>0.099355</td>\n",
              "      <td>0.156887</td>\n",
              "      <td>0.158303</td>\n",
              "      <td>0.167026</td>\n",
              "      <td>0.179341</td>\n",
              "      <td>-0.019644</td>\n",
              "    </tr>\n",
              "    <tr>\n",
              "      <th>BILL_AMT_AUG</th>\n",
              "      <td>0.017982</td>\n",
              "      <td>0.278314</td>\n",
              "      <td>-0.031183</td>\n",
              "      <td>0.018749</td>\n",
              "      <td>-0.021602</td>\n",
              "      <td>0.054283</td>\n",
              "      <td>0.189859</td>\n",
              "      <td>0.235257</td>\n",
              "      <td>0.237295</td>\n",
              "      <td>0.225816</td>\n",
              "      <td>...</td>\n",
              "      <td>0.892482</td>\n",
              "      <td>0.859778</td>\n",
              "      <td>0.831594</td>\n",
              "      <td>0.280365</td>\n",
              "      <td>0.100851</td>\n",
              "      <td>0.150718</td>\n",
              "      <td>0.147398</td>\n",
              "      <td>0.157957</td>\n",
              "      <td>0.174256</td>\n",
              "      <td>-0.014193</td>\n",
              "    </tr>\n",
              "    <tr>\n",
              "      <th>BILL_AMT_JUL</th>\n",
              "      <td>0.024354</td>\n",
              "      <td>0.283236</td>\n",
              "      <td>-0.024563</td>\n",
              "      <td>0.013002</td>\n",
              "      <td>-0.024909</td>\n",
              "      <td>0.053710</td>\n",
              "      <td>0.179785</td>\n",
              "      <td>0.224146</td>\n",
              "      <td>0.227494</td>\n",
              "      <td>0.244983</td>\n",
              "      <td>...</td>\n",
              "      <td>0.923969</td>\n",
              "      <td>0.883910</td>\n",
              "      <td>0.853320</td>\n",
              "      <td>0.244335</td>\n",
              "      <td>0.316936</td>\n",
              "      <td>0.130011</td>\n",
              "      <td>0.143405</td>\n",
              "      <td>0.179712</td>\n",
              "      <td>0.182326</td>\n",
              "      <td>-0.014076</td>\n",
              "    </tr>\n",
              "    <tr>\n",
              "      <th>BILL_AMT_JUN</th>\n",
              "      <td>0.040351</td>\n",
              "      <td>0.293988</td>\n",
              "      <td>-0.021880</td>\n",
              "      <td>-0.000451</td>\n",
              "      <td>-0.023344</td>\n",
              "      <td>0.051353</td>\n",
              "      <td>0.179125</td>\n",
              "      <td>0.222237</td>\n",
              "      <td>0.227202</td>\n",
              "      <td>0.245917</td>\n",
              "      <td>...</td>\n",
              "      <td>1.000000</td>\n",
              "      <td>0.940134</td>\n",
              "      <td>0.900941</td>\n",
              "      <td>0.233012</td>\n",
              "      <td>0.207564</td>\n",
              "      <td>0.300023</td>\n",
              "      <td>0.130191</td>\n",
              "      <td>0.160433</td>\n",
              "      <td>0.177637</td>\n",
              "      <td>-0.010156</td>\n",
              "    </tr>\n",
              "    <tr>\n",
              "      <th>BILL_AMT_MAY</th>\n",
              "      <td>0.016705</td>\n",
              "      <td>0.295562</td>\n",
              "      <td>-0.017005</td>\n",
              "      <td>-0.007567</td>\n",
              "      <td>-0.025393</td>\n",
              "      <td>0.049345</td>\n",
              "      <td>0.180635</td>\n",
              "      <td>0.221348</td>\n",
              "      <td>0.225145</td>\n",
              "      <td>0.242902</td>\n",
              "      <td>...</td>\n",
              "      <td>0.940134</td>\n",
              "      <td>1.000000</td>\n",
              "      <td>0.946197</td>\n",
              "      <td>0.217031</td>\n",
              "      <td>0.181246</td>\n",
              "      <td>0.252305</td>\n",
              "      <td>0.293118</td>\n",
              "      <td>0.141574</td>\n",
              "      <td>0.164184</td>\n",
              "      <td>-0.006760</td>\n",
              "    </tr>\n",
              "    <tr>\n",
              "      <th>BILL_AMT_APR</th>\n",
              "      <td>0.016730</td>\n",
              "      <td>0.290389</td>\n",
              "      <td>-0.016733</td>\n",
              "      <td>-0.009099</td>\n",
              "      <td>-0.021207</td>\n",
              "      <td>0.047613</td>\n",
              "      <td>0.176980</td>\n",
              "      <td>0.219403</td>\n",
              "      <td>0.222327</td>\n",
              "      <td>0.239154</td>\n",
              "      <td>...</td>\n",
              "      <td>0.900941</td>\n",
              "      <td>0.946197</td>\n",
              "      <td>1.000000</td>\n",
              "      <td>0.199965</td>\n",
              "      <td>0.172663</td>\n",
              "      <td>0.233770</td>\n",
              "      <td>0.250237</td>\n",
              "      <td>0.307729</td>\n",
              "      <td>0.115494</td>\n",
              "      <td>-0.005372</td>\n",
              "    </tr>\n",
              "    <tr>\n",
              "      <th>PAY_AMT_SEPT</th>\n",
              "      <td>0.009742</td>\n",
              "      <td>0.195236</td>\n",
              "      <td>-0.000242</td>\n",
              "      <td>-0.037456</td>\n",
              "      <td>-0.005979</td>\n",
              "      <td>0.026147</td>\n",
              "      <td>-0.079269</td>\n",
              "      <td>-0.080701</td>\n",
              "      <td>0.001295</td>\n",
              "      <td>-0.009362</td>\n",
              "      <td>...</td>\n",
              "      <td>0.233012</td>\n",
              "      <td>0.217031</td>\n",
              "      <td>0.199965</td>\n",
              "      <td>1.000000</td>\n",
              "      <td>0.285576</td>\n",
              "      <td>0.252191</td>\n",
              "      <td>0.199558</td>\n",
              "      <td>0.148459</td>\n",
              "      <td>0.185735</td>\n",
              "      <td>-0.072929</td>\n",
              "    </tr>\n",
              "    <tr>\n",
              "      <th>PAY_AMT_AUG</th>\n",
              "      <td>0.008406</td>\n",
              "      <td>0.178408</td>\n",
              "      <td>-0.001391</td>\n",
              "      <td>-0.030038</td>\n",
              "      <td>-0.008093</td>\n",
              "      <td>0.021785</td>\n",
              "      <td>-0.070101</td>\n",
              "      <td>-0.058990</td>\n",
              "      <td>-0.066793</td>\n",
              "      <td>-0.001944</td>\n",
              "      <td>...</td>\n",
              "      <td>0.207564</td>\n",
              "      <td>0.181246</td>\n",
              "      <td>0.172663</td>\n",
              "      <td>0.285576</td>\n",
              "      <td>1.000000</td>\n",
              "      <td>0.244770</td>\n",
              "      <td>0.180107</td>\n",
              "      <td>0.180908</td>\n",
              "      <td>0.157634</td>\n",
              "      <td>-0.058579</td>\n",
              "    </tr>\n",
              "    <tr>\n",
              "      <th>PAY_AMT_JUL</th>\n",
              "      <td>0.039151</td>\n",
              "      <td>0.210167</td>\n",
              "      <td>-0.008597</td>\n",
              "      <td>-0.039943</td>\n",
              "      <td>-0.003541</td>\n",
              "      <td>0.029247</td>\n",
              "      <td>-0.070561</td>\n",
              "      <td>-0.055901</td>\n",
              "      <td>-0.053311</td>\n",
              "      <td>-0.069235</td>\n",
              "      <td>...</td>\n",
              "      <td>0.300023</td>\n",
              "      <td>0.252305</td>\n",
              "      <td>0.233770</td>\n",
              "      <td>0.252191</td>\n",
              "      <td>0.244770</td>\n",
              "      <td>1.000000</td>\n",
              "      <td>0.216325</td>\n",
              "      <td>0.159214</td>\n",
              "      <td>0.162740</td>\n",
              "      <td>-0.056250</td>\n",
              "    </tr>\n",
              "    <tr>\n",
              "      <th>PAY_AMT_JUN</th>\n",
              "      <td>0.007793</td>\n",
              "      <td>0.203242</td>\n",
              "      <td>-0.002229</td>\n",
              "      <td>-0.038218</td>\n",
              "      <td>-0.012659</td>\n",
              "      <td>0.021379</td>\n",
              "      <td>-0.064005</td>\n",
              "      <td>-0.046858</td>\n",
              "      <td>-0.046067</td>\n",
              "      <td>-0.043461</td>\n",
              "      <td>...</td>\n",
              "      <td>0.130191</td>\n",
              "      <td>0.293118</td>\n",
              "      <td>0.250237</td>\n",
              "      <td>0.199558</td>\n",
              "      <td>0.180107</td>\n",
              "      <td>0.216325</td>\n",
              "      <td>1.000000</td>\n",
              "      <td>0.151830</td>\n",
              "      <td>0.157834</td>\n",
              "      <td>-0.056827</td>\n",
              "    </tr>\n",
              "    <tr>\n",
              "      <th>PAY_AMT_MAY</th>\n",
              "      <td>0.000652</td>\n",
              "      <td>0.217202</td>\n",
              "      <td>-0.001667</td>\n",
              "      <td>-0.040358</td>\n",
              "      <td>-0.001205</td>\n",
              "      <td>0.022850</td>\n",
              "      <td>-0.058190</td>\n",
              "      <td>-0.037093</td>\n",
              "      <td>-0.035863</td>\n",
              "      <td>-0.033590</td>\n",
              "      <td>...</td>\n",
              "      <td>0.160433</td>\n",
              "      <td>0.141574</td>\n",
              "      <td>0.307729</td>\n",
              "      <td>0.148459</td>\n",
              "      <td>0.180908</td>\n",
              "      <td>0.159214</td>\n",
              "      <td>0.151830</td>\n",
              "      <td>1.000000</td>\n",
              "      <td>0.154896</td>\n",
              "      <td>-0.055124</td>\n",
              "    </tr>\n",
              "    <tr>\n",
              "      <th>PAY_AMT_APR</th>\n",
              "      <td>0.003000</td>\n",
              "      <td>0.219595</td>\n",
              "      <td>-0.002766</td>\n",
              "      <td>-0.037200</td>\n",
              "      <td>-0.006641</td>\n",
              "      <td>0.019478</td>\n",
              "      <td>-0.058673</td>\n",
              "      <td>-0.036500</td>\n",
              "      <td>-0.035861</td>\n",
              "      <td>-0.026565</td>\n",
              "      <td>...</td>\n",
              "      <td>0.177637</td>\n",
              "      <td>0.164184</td>\n",
              "      <td>0.115494</td>\n",
              "      <td>0.185735</td>\n",
              "      <td>0.157634</td>\n",
              "      <td>0.162740</td>\n",
              "      <td>0.157834</td>\n",
              "      <td>0.154896</td>\n",
              "      <td>1.000000</td>\n",
              "      <td>-0.053183</td>\n",
              "    </tr>\n",
              "    <tr>\n",
              "      <th>default payment next month</th>\n",
              "      <td>-0.013952</td>\n",
              "      <td>-0.153520</td>\n",
              "      <td>-0.039961</td>\n",
              "      <td>0.028006</td>\n",
              "      <td>-0.024339</td>\n",
              "      <td>0.013890</td>\n",
              "      <td>0.324794</td>\n",
              "      <td>0.263551</td>\n",
              "      <td>0.235253</td>\n",
              "      <td>0.216614</td>\n",
              "      <td>...</td>\n",
              "      <td>-0.010156</td>\n",
              "      <td>-0.006760</td>\n",
              "      <td>-0.005372</td>\n",
              "      <td>-0.072929</td>\n",
              "      <td>-0.058579</td>\n",
              "      <td>-0.056250</td>\n",
              "      <td>-0.056827</td>\n",
              "      <td>-0.055124</td>\n",
              "      <td>-0.053183</td>\n",
              "      <td>1.000000</td>\n",
              "    </tr>\n",
              "  </tbody>\n",
              "</table>\n",
              "<p>25 rows × 25 columns</p>\n",
              "</div>\n",
              "      <button class=\"colab-df-convert\" onclick=\"convertToInteractive('df-5cdfee65-be77-448a-b50b-236b85be689b')\"\n",
              "              title=\"Convert this dataframe to an interactive table.\"\n",
              "              style=\"display:none;\">\n",
              "        \n",
              "  <svg xmlns=\"http://www.w3.org/2000/svg\" height=\"24px\"viewBox=\"0 0 24 24\"\n",
              "       width=\"24px\">\n",
              "    <path d=\"M0 0h24v24H0V0z\" fill=\"none\"/>\n",
              "    <path d=\"M18.56 5.44l.94 2.06.94-2.06 2.06-.94-2.06-.94-.94-2.06-.94 2.06-2.06.94zm-11 1L8.5 8.5l.94-2.06 2.06-.94-2.06-.94L8.5 2.5l-.94 2.06-2.06.94zm10 10l.94 2.06.94-2.06 2.06-.94-2.06-.94-.94-2.06-.94 2.06-2.06.94z\"/><path d=\"M17.41 7.96l-1.37-1.37c-.4-.4-.92-.59-1.43-.59-.52 0-1.04.2-1.43.59L10.3 9.45l-7.72 7.72c-.78.78-.78 2.05 0 2.83L4 21.41c.39.39.9.59 1.41.59.51 0 1.02-.2 1.41-.59l7.78-7.78 2.81-2.81c.8-.78.8-2.07 0-2.86zM5.41 20L4 18.59l7.72-7.72 1.47 1.35L5.41 20z\"/>\n",
              "  </svg>\n",
              "      </button>\n",
              "      \n",
              "  <style>\n",
              "    .colab-df-container {\n",
              "      display:flex;\n",
              "      flex-wrap:wrap;\n",
              "      gap: 12px;\n",
              "    }\n",
              "\n",
              "    .colab-df-convert {\n",
              "      background-color: #E8F0FE;\n",
              "      border: none;\n",
              "      border-radius: 50%;\n",
              "      cursor: pointer;\n",
              "      display: none;\n",
              "      fill: #1967D2;\n",
              "      height: 32px;\n",
              "      padding: 0 0 0 0;\n",
              "      width: 32px;\n",
              "    }\n",
              "\n",
              "    .colab-df-convert:hover {\n",
              "      background-color: #E2EBFA;\n",
              "      box-shadow: 0px 1px 2px rgba(60, 64, 67, 0.3), 0px 1px 3px 1px rgba(60, 64, 67, 0.15);\n",
              "      fill: #174EA6;\n",
              "    }\n",
              "\n",
              "    [theme=dark] .colab-df-convert {\n",
              "      background-color: #3B4455;\n",
              "      fill: #D2E3FC;\n",
              "    }\n",
              "\n",
              "    [theme=dark] .colab-df-convert:hover {\n",
              "      background-color: #434B5C;\n",
              "      box-shadow: 0px 1px 3px 1px rgba(0, 0, 0, 0.15);\n",
              "      filter: drop-shadow(0px 1px 2px rgba(0, 0, 0, 0.3));\n",
              "      fill: #FFFFFF;\n",
              "    }\n",
              "  </style>\n",
              "\n",
              "      <script>\n",
              "        const buttonEl =\n",
              "          document.querySelector('#df-5cdfee65-be77-448a-b50b-236b85be689b button.colab-df-convert');\n",
              "        buttonEl.style.display =\n",
              "          google.colab.kernel.accessAllowed ? 'block' : 'none';\n",
              "\n",
              "        async function convertToInteractive(key) {\n",
              "          const element = document.querySelector('#df-5cdfee65-be77-448a-b50b-236b85be689b');\n",
              "          const dataTable =\n",
              "            await google.colab.kernel.invokeFunction('convertToInteractive',\n",
              "                                                     [key], {});\n",
              "          if (!dataTable) return;\n",
              "\n",
              "          const docLinkHtml = 'Like what you see? Visit the ' +\n",
              "            '<a target=\"_blank\" href=https://colab.research.google.com/notebooks/data_table.ipynb>data table notebook</a>'\n",
              "            + ' to learn more about interactive tables.';\n",
              "          element.innerHTML = '';\n",
              "          dataTable['output_type'] = 'display_data';\n",
              "          await google.colab.output.renderOutput(dataTable, element);\n",
              "          const docLink = document.createElement('div');\n",
              "          docLink.innerHTML = docLinkHtml;\n",
              "          element.appendChild(docLink);\n",
              "        }\n",
              "      </script>\n",
              "    </div>\n",
              "  </div>\n",
              "  "
            ]
          },
          "metadata": {},
          "execution_count": 18
        }
      ]
    },
    {
      "cell_type": "code",
      "source": [],
      "metadata": {
        "id": "E9shBLvgUEfh"
      },
      "execution_count": 18,
      "outputs": []
    },
    {
      "cell_type": "code",
      "source": [
        "plt.figure(figsize=(20,20))\n",
        "sns.heatmap(data.corr(),annot=True)\n",
        "plt.title('Correlation between different variables')"
      ],
      "metadata": {
        "colab": {
          "base_uri": "https://localhost:8080/",
          "height": 1000
        },
        "id": "kE5ZtiX6UciD",
        "outputId": "593a3853-9ff7-4786-c469-a311874ffb29"
      },
      "execution_count": 19,
      "outputs": [
        {
          "output_type": "execute_result",
          "data": {
            "text/plain": [
              "Text(0.5, 1.0, 'Correlation between different variables')"
            ]
          },
          "metadata": {},
          "execution_count": 19
        },
        {
          "output_type": "display_data",
          "data": {
            "text/plain": [
              "<Figure size 1440x1440 with 2 Axes>"
            ],
            "image/png": "[encoded data removed]"
          },
          "metadata": {
            "needs_background": "light"
          }
        }
      ]
    },
    {
      "cell_type": "code",
      "source": [
        "#Checking value counts of SEX\n",
        "data['SEX'].value_counts()"
      ],
      "metadata": {
        "colab": {
          "base_uri": "https://localhost:8080/"
        },
        "id": "4iIid2GFUdru",
        "outputId": "923a3c31-55ba-47c5-dfb7-672a565dd9ea"
      },
      "execution_count": 20,
      "outputs": [
        {
          "output_type": "execute_result",
          "data": {
            "text/plain": [
              "2    18112\n",
              "1    11888\n",
              "Name: SEX, dtype: int64"
            ]
          },
          "metadata": {},
          "execution_count": 20
        }
      ]
    },
    {
      "cell_type": "code",
      "source": [
        "plt.figure(figsize=(5,5))\n",
        "sns.countplot(x = 'SEX', data = data)\n",
        "plt.show()"
      ],
      "metadata": {
        "colab": {
          "base_uri": "https://localhost:8080/",
          "height": 334
        },
        "id": "Nb8-QhxdV6tv",
        "outputId": "8399df37-344b-4958-c99e-0676cddb9811"
      },
      "execution_count": 21,
      "outputs": [
        {
          "output_type": "display_data",
          "data": {
            "text/plain": [
              "<Figure size 360x360 with 1 Axes>"
            ],
            "image/png": "[encoded data removed]"
          },
          "metadata": {
            "needs_background": "light"
          }
        }
      ]
    },
    {
      "cell_type": "code",
      "source": [
        "#Checking value counts of IsDefaulter\n",
        "data['default payment next month'].value_counts()"
      ],
      "metadata": {
        "colab": {
          "base_uri": "https://localhost:8080/"
        },
        "id": "RNPOF_I1VfTp",
        "outputId": "30f463ce-6400-4f67-ebf6-25895645c055"
      },
      "execution_count": 22,
      "outputs": [
        {
          "output_type": "execute_result",
          "data": {
            "text/plain": [
              "0    23364\n",
              "1     6636\n",
              "Name: default payment next month, dtype: int64"
            ]
          },
          "metadata": {},
          "execution_count": 22
        }
      ]
    },
    {
      "cell_type": "code",
      "source": [
        "def sex(x):\n",
        "    if (x==1):\n",
        "        return \"Male\"\n",
        "    else:\n",
        "        return \"Female\"\n",
        "data['SEX']=data['SEX'].apply(sex)"
      ],
      "metadata": {
        "id": "KrioZjifWgpu"
      },
      "execution_count": 23,
      "outputs": []
    },
    {
      "cell_type": "code",
      "source": [
        "plt.figure(dpi=100)\n",
        "data['SEX'].value_counts()\n",
        "sns.countplot(x=\"SEX\", data=data)\n",
        "plt.title(\"Ratio of Gender\", size=15)\n",
        "plt.xlabel(\"Sex\")\n",
        "plt.ylabel(\"Count\")\n",
        "plt.show()"
      ],
      "metadata": {
        "colab": {
          "base_uri": "https://localhost:8080/",
          "height": 406
        },
        "id": "A88iIJbIXGRB",
        "outputId": "fbbe2d2a-08c7-496f-852d-5ea31d44da65"
      },
      "execution_count": 24,
      "outputs": [
        {
          "output_type": "display_data",
          "data": {
            "text/plain": [
              "<Figure size 600x400 with 1 Axes>"
            ],
            "image/png": "[encoded data removed]"
          },
          "metadata": {
            "needs_background": "light"
          }
        }
      ]
    },
    {
      "cell_type": "code",
      "source": [
        "plt.figure(figsize=(5,5))\n",
        "sns.countplot(x = 'default payment next month', data = data)\n",
        "plt.show()"
      ],
      "metadata": {
        "colab": {
          "base_uri": "https://localhost:8080/",
          "height": 334
        },
        "id": "o6SDy-tvVokk",
        "outputId": "a42a042b-b2c4-47a2-8873-5ec21fa7e096"
      },
      "execution_count": 25,
      "outputs": [
        {
          "output_type": "display_data",
          "data": {
            "text/plain": [
              "<Figure size 360x360 with 1 Axes>"
            ],
            "image/png": "[encoded data removed]"
          },
          "metadata": {
            "needs_background": "light"
          }
        }
      ]
    },
    {
      "cell_type": "code",
      "source": [
        "data['EDUCATION'].value_counts()"
      ],
      "metadata": {
        "colab": {
          "base_uri": "https://localhost:8080/"
        },
        "id": "ZF_VSeemCA28",
        "outputId": "cc9c9972-d892-4213-85fd-dad25ae666dc"
      },
      "execution_count": 26,
      "outputs": [
        {
          "output_type": "execute_result",
          "data": {
            "text/plain": [
              "2    14030\n",
              "1    10585\n",
              "3     4917\n",
              "5      280\n",
              "4      123\n",
              "6       51\n",
              "0       14\n",
              "Name: EDUCATION, dtype: int64"
            ]
          },
          "metadata": {},
          "execution_count": 26
        }
      ]
    },
    {
      "cell_type": "code",
      "source": [
        "# plotting graph for various qualification present in the dataset\n",
        "def education(x):\n",
        "    if (x==1):\n",
        "        return \"Graduate school\"\n",
        "    elif (x==2):\n",
        "        return \"University\"\n",
        "    elif (x==3):\n",
        "        return \"High School\"\n",
        "    else:\n",
        "        return \"Others\"\n",
        "data['EDUCATION']=data['EDUCATION'].apply(education)\n"
      ],
      "metadata": {
        "id": "mZO29pFPCAzC"
      },
      "execution_count": 27,
      "outputs": []
    },
    {
      "cell_type": "code",
      "source": [
        "plt.figure(dpi=100)\n",
        "data['EDUCATION'].value_counts()\n",
        "sns.countplot(x=\"EDUCATION\", data=data)\n",
        "plt.xlabel(\"Education\")\n",
        "plt.ylabel(\"Count\")\n",
        "plt.show()"
      ],
      "metadata": {
        "colab": {
          "base_uri": "https://localhost:8080/",
          "height": 382
        },
        "id": "Oi7MhTUICAvi",
        "outputId": "884332aa-ceda-4a11-e4d2-a9caa964593c"
      },
      "execution_count": 28,
      "outputs": [
        {
          "output_type": "display_data",
          "data": {
            "text/plain": [
              "<Figure size 600x400 with 1 Axes>"
            ],
            "image/png": "[encoded data removed]"
          },
          "metadata": {
            "needs_background": "light"
          }
        }
      ]
    },
    {
      "cell_type": "code",
      "source": [
        "plt.figure(figsize=(10,10))\n",
        "plt.pie(data['EDUCATION'].value_counts(),shadow = False ,autopct = '%1.2f%%',textprops = {\"fontsize\":16})\n",
        "plt.legend(labels = ['University','Graduate school','High school','Others' ])\n",
        "plt.title(\"Education Defaulters\", fontweight='bold', fontsize=20)"
      ],
      "metadata": {
        "colab": {
          "base_uri": "https://localhost:8080/",
          "height": 613
        },
        "id": "qvMi65MCdvdS",
        "outputId": "dc73148b-167a-4f37-c6df-ec96186c7017"
      },
      "execution_count": 40,
      "outputs": [
        {
          "output_type": "execute_result",
          "data": {
            "text/plain": [
              "Text(0.5, 1.0, 'Education Defaulters')"
            ]
          },
          "metadata": {},
          "execution_count": 40
        },
        {
          "output_type": "display_data",
          "data": {
            "text/plain": [
              "<Figure size 720x720 with 1 Axes>"
            ],
            "image/png": "[encoded data removed]"
          },
          "metadata": {}
        }
      ]
    },
    {
      "cell_type": "code",
      "source": [
        "data.columns"
      ],
      "metadata": {
        "colab": {
          "base_uri": "https://localhost:8080/"
        },
        "id": "q2BeB6NkeEFg",
        "outputId": "bbe74738-cfc4-45f8-eacc-ec835ab5a73c"
      },
      "execution_count": 41,
      "outputs": [
        {
          "output_type": "execute_result",
          "data": {
            "text/plain": [
              "Index(['ID', 'LIMIT_BAL', 'SEX', 'EDUCATION', 'MARRIAGE', 'AGE', 'PAY_SEPT',\n",
              "       'PAY_AUG', 'PAY_JUL', 'PAY_JUN', 'PAY_MAY', 'PAY_APR', 'BILL_AMT_SEPT',\n",
              "       'BILL_AMT_AUG', 'BILL_AMT_JUL', 'BILL_AMT_JUN', 'BILL_AMT_MAY',\n",
              "       'BILL_AMT_APR', 'PAY_AMT_SEPT', 'PAY_AMT_AUG', 'PAY_AMT_JUL',\n",
              "       'PAY_AMT_JUN', 'PAY_AMT_MAY', 'PAY_AMT_APR',\n",
              "       'default payment next month'],\n",
              "      dtype='object')"
            ]
          },
          "metadata": {},
          "execution_count": 41
        }
      ]
    },
    {
      "cell_type": "code",
      "source": [
        "#distribution Educated defaulter\n",
        "plt.figure(figsize=(15,8))\n",
        "\n",
        "sns.countplot(x=data['EDUCATION'], hue='default payment next month', data=data, edgecolor = 'k')\n",
        "plt.xlabel('Education',fontweight='bold')\n",
        "plt.ylabel('Count',fontweight='bold')\n",
        "plt.title('Disribution over Education', fontweight='bold',fontsize=20)\n",
        "plt.legend(title='STATUS', loc='upper right', labels=['Non Defaulter', 'Defaulter'], fontsize=10)"
      ],
      "metadata": {
        "colab": {
          "base_uri": "https://localhost:8080/",
          "height": 535
        },
        "id": "SMj-EhI7d-kQ",
        "outputId": "44339b76-5836-4f37-d284-d0b2ec60c4ef"
      },
      "execution_count": 42,
      "outputs": [
        {
          "output_type": "execute_result",
          "data": {
            "text/plain": [
              "<matplotlib.legend.Legend at 0x7f00f20b8590>"
            ]
          },
          "metadata": {},
          "execution_count": 42
        },
        {
          "output_type": "display_data",
          "data": {
            "text/plain": [
              "<Figure size 1080x576 with 1 Axes>"
            ],
            "image/png": "[encoded data removed]"
          },
          "metadata": {
            "needs_background": "light"
          }
        }
      ]
    },
    {
      "cell_type": "code",
      "source": [
        "# plotting graph to findout marriage status of records\n",
        "def marriage(x):\n",
        "    if (x==1):\n",
        "        return \"Married\"\n",
        "    elif (x==2):\n",
        "        return \"Single\"\n",
        "    else:\n",
        "        return \"Others\"\n",
        "data['MARRIAGE']=data['MARRIAGE'].apply(marriage)"
      ],
      "metadata": {
        "id": "YEmZ3NkSCAqX"
      },
      "execution_count": 29,
      "outputs": []
    },
    {
      "cell_type": "code",
      "source": [
        "plt.figure(dpi=100)\n",
        "data['MARRIAGE'].value_counts()\n",
        "sns.countplot(x=\"MARRIAGE\",  data=data)\n",
        "plt.xlabel(\"Marriage\")\n",
        "plt.ylabel(\"Count\")\n",
        "plt.show()"
      ],
      "metadata": {
        "colab": {
          "base_uri": "https://localhost:8080/",
          "height": 382
        },
        "id": "nXe4mN2qCAin",
        "outputId": "653aa5fe-7591-4b20-9833-eed7a02c05b8"
      },
      "execution_count": 30,
      "outputs": [
        {
          "output_type": "display_data",
          "data": {
            "text/plain": [
              "<Figure size 600x400 with 1 Axes>"
            ],
            "image/png": "[encoded data removed]"
          },
          "metadata": {
            "needs_background": "light"
          }
        }
      ]
    },
    {
      "cell_type": "code",
      "source": [
        "#age wise values of credit card holder\n",
        "data['AGE'].value_counts()"
      ],
      "metadata": {
        "colab": {
          "base_uri": "https://localhost:8080/"
        },
        "id": "pW6MmGTICAfK",
        "outputId": "18f87ab7-fd63-4809-d35f-a0a7d2208cc6"
      },
      "execution_count": 31,
      "outputs": [
        {
          "output_type": "execute_result",
          "data": {
            "text/plain": [
              "29    1605\n",
              "27    1477\n",
              "28    1409\n",
              "30    1395\n",
              "26    1256\n",
              "31    1217\n",
              "25    1186\n",
              "34    1162\n",
              "32    1158\n",
              "33    1146\n",
              "24    1127\n",
              "35    1113\n",
              "36    1108\n",
              "37    1041\n",
              "39     954\n",
              "38     944\n",
              "23     931\n",
              "40     870\n",
              "41     824\n",
              "42     794\n",
              "44     700\n",
              "43     670\n",
              "45     617\n",
              "46     570\n",
              "22     560\n",
              "47     501\n",
              "48     466\n",
              "49     452\n",
              "50     411\n",
              "51     340\n",
              "53     325\n",
              "52     304\n",
              "54     247\n",
              "55     209\n",
              "56     178\n",
              "58     122\n",
              "57     122\n",
              "59      83\n",
              "60      67\n",
              "21      67\n",
              "61      56\n",
              "62      44\n",
              "63      31\n",
              "64      31\n",
              "66      25\n",
              "65      24\n",
              "67      16\n",
              "69      15\n",
              "70      10\n",
              "68       5\n",
              "73       4\n",
              "72       3\n",
              "75       3\n",
              "71       3\n",
              "79       1\n",
              "74       1\n",
              "Name: AGE, dtype: int64"
            ]
          },
          "metadata": {},
          "execution_count": 31
        }
      ]
    },
    {
      "cell_type": "code",
      "source": [
        "# plotting values count for AGE \n",
        "plt.figure(figsize=(15,10))\n",
        "sns.countplot(x = 'AGE', data = data)"
      ],
      "metadata": {
        "colab": {
          "base_uri": "https://localhost:8080/",
          "height": 623
        },
        "id": "696dFcfnCAbn",
        "outputId": "e04b5846-cc48-4247-9c03-2f9439201594"
      },
      "execution_count": 32,
      "outputs": [
        {
          "output_type": "execute_result",
          "data": {
            "text/plain": [
              "<matplotlib.axes._subplots.AxesSubplot at 0x7f00f24fc910>"
            ]
          },
          "metadata": {},
          "execution_count": 32
        },
        {
          "output_type": "display_data",
          "data": {
            "text/plain": [
              "<Figure size 1080x720 with 1 Axes>"
            ],
            "image/png": "[encoded data removed]"
          },
          "metadata": {
            "needs_background": "light"
          }
        }
      ]
    },
    {
      "cell_type": "code",
      "source": [
        "#plotting values count for Age with respect to IsDefaulter\n",
        "plt.figure(figsize=(15,10))\n",
        "sns.countplot(x = 'AGE', hue = 'default payment next month', data = data)"
      ],
      "metadata": {
        "colab": {
          "base_uri": "https://localhost:8080/",
          "height": 623
        },
        "id": "JNkggbT1CAYR",
        "outputId": "bf64addf-5010-4480-add6-742e5a24aa15"
      },
      "execution_count": 33,
      "outputs": [
        {
          "output_type": "execute_result",
          "data": {
            "text/plain": [
              "<matplotlib.axes._subplots.AxesSubplot at 0x7f00f0108f50>"
            ]
          },
          "metadata": {},
          "execution_count": 33
        },
        {
          "output_type": "display_data",
          "data": {
            "text/plain": [
              "<Figure size 1080x720 with 1 Axes>"
            ],
            "image/png": "[encoded data removed]"
          },
          "metadata": {
            "needs_background": "light"
          }
        }
      ]
    },
    {
      "cell_type": "code",
      "source": [
        "data.columns"
      ],
      "metadata": {
        "colab": {
          "base_uri": "https://localhost:8080/"
        },
        "id": "jcuG6pPdCAUo",
        "outputId": "44a053eb-6fc5-416f-f29d-ed421ae7500e"
      },
      "execution_count": 34,
      "outputs": [
        {
          "output_type": "execute_result",
          "data": {
            "text/plain": [
              "Index(['ID', 'LIMIT_BAL', 'SEX', 'EDUCATION', 'MARRIAGE', 'AGE', 'PAY_SEPT',\n",
              "       'PAY_AUG', 'PAY_JUL', 'PAY_JUN', 'PAY_MAY', 'PAY_APR', 'BILL_AMT_SEPT',\n",
              "       'BILL_AMT_AUG', 'BILL_AMT_JUL', 'BILL_AMT_JUN', 'BILL_AMT_MAY',\n",
              "       'BILL_AMT_APR', 'PAY_AMT_SEPT', 'PAY_AMT_AUG', 'PAY_AMT_JUL',\n",
              "       'PAY_AMT_JUN', 'PAY_AMT_MAY', 'PAY_AMT_APR',\n",
              "       'default payment next month'],\n",
              "      dtype='object')"
            ]
          },
          "metadata": {},
          "execution_count": 34
        }
      ]
    },
    {
      "cell_type": "code",
      "source": [
        "# we will check billing amount trend for those people who has atleast one latepayment\n",
        "bill_trend = data[data['default payment next month']== 1]\n",
        "bill_amt_trend = bill_trend[['BILL_AMT_APR','BILL_AMT_MAY','BILL_AMT_JUN','BILL_AMT_JUL','BILL_AMT_AUG','BILL_AMT_SEPT']].sum(axis=0)\n",
        "\n",
        "# Draw a line chart to show the trend. The lower the number, the shorter delayed payment\n",
        "fig,ax = plt.subplots()\n",
        "ax.plot(bill_amt_trend)\n",
        "plt.xticks(['BILL_AMT_APR','BILL_AMT_MAY','BILL_AMT_JUN','BILL_AMT_JUL','BILL_AMT_AUG','BILL_AMT_SEPT'],['Apr','May','Jun','Jul','Aug','Sep'])\n",
        "\n",
        "plt.xlabel('Months in 2005',fontweight='bold')\n",
        "plt.ylabel('Total bill amount',fontweight='bold')\n",
        "plt.title('Bill Amount Trend',fontweight='bold')\n",
        "plt.show()"
      ],
      "metadata": {
        "colab": {
          "base_uri": "https://localhost:8080/",
          "height": 295
        },
        "id": "SY_OwgD4CARF",
        "outputId": "057c993f-4bf3-43a5-c742-8623137cc416"
      },
      "execution_count": 35,
      "outputs": [
        {
          "output_type": "display_data",
          "data": {
            "text/plain": [
              "<Figure size 432x288 with 1 Axes>"
            ],
            "image/png": "[encoded data removed]"
          },
          "metadata": {
            "needs_background": "light"
          }
        }
      ]
    },
    {
      "cell_type": "code",
      "source": [
        "data.columns"
      ],
      "metadata": {
        "colab": {
          "base_uri": "https://localhost:8080/"
        },
        "id": "CankA6UiLT8l",
        "outputId": "28148e3a-e6d5-4d43-ed30-6d91373e5993"
      },
      "execution_count": 36,
      "outputs": [
        {
          "output_type": "execute_result",
          "data": {
            "text/plain": [
              "Index(['ID', 'LIMIT_BAL', 'SEX', 'EDUCATION', 'MARRIAGE', 'AGE', 'PAY_SEPT',\n",
              "       'PAY_AUG', 'PAY_JUL', 'PAY_JUN', 'PAY_MAY', 'PAY_APR', 'BILL_AMT_SEPT',\n",
              "       'BILL_AMT_AUG', 'BILL_AMT_JUL', 'BILL_AMT_JUN', 'BILL_AMT_MAY',\n",
              "       'BILL_AMT_APR', 'PAY_AMT_SEPT', 'PAY_AMT_AUG', 'PAY_AMT_JUL',\n",
              "       'PAY_AMT_JUN', 'PAY_AMT_MAY', 'PAY_AMT_APR',\n",
              "       'default payment next month'],\n",
              "      dtype='object')"
            ]
          },
          "metadata": {},
          "execution_count": 36
        }
      ]
    },
    {
      "cell_type": "code",
      "source": [
        "repay_status = data[data['default payment next month']== 1]\n",
        "repay_trend = bill_trend[['PAY_APR','PAY_MAY','PAY_JUN','PAY_JUL','PAY_AUG','PAY_SEPT']].sum(axis=0)\n",
        "\n",
        "fig,ax = plt.subplots()\n",
        "ax.plot(repay_trend)\n",
        "plt.xticks(['PAY_APR','PAY_MAY','PAY_JUN','PAY_JUL','PAY_AUG','PAY_SEPT'],['Apr','May','Jun','Jul','Aug','Sep'])\n",
        "\n",
        "plt.xlabel('Months',fontweight='bold')\n",
        "plt.ylabel('Repay Defaults Count',fontweight='bold')\n",
        "plt.title('Repayment Status Trend', fontweight='bold')"
      ],
      "metadata": {
        "colab": {
          "base_uri": "https://localhost:8080/",
          "height": 312
        },
        "id": "aiWrmHZFK3c4",
        "outputId": "30b21610-8a7d-4f2b-a6e6-c37348450995"
      },
      "execution_count": 37,
      "outputs": [
        {
          "output_type": "execute_result",
          "data": {
            "text/plain": [
              "Text(0.5, 1.0, 'Repayment Status Trend')"
            ]
          },
          "metadata": {},
          "execution_count": 37
        },
        {
          "output_type": "display_data",
          "data": {
            "text/plain": [
              "<Figure size 432x288 with 1 Axes>"
            ],
            "image/png": "[encoded data removed]"
          },
          "metadata": {
            "needs_background": "light"
          }
        }
      ]
    },
    {
      "cell_type": "code",
      "source": [
        "repay_status = data[data['default payment next month']== 1]\n",
        "repay_trend = bill_trend[['PAY_AMT_APR','PAY_AMT_MAY','PAY_AMT_JUN','PAY_AMT_JUL','PAY_AMT_AUG','PAY_AMT_SEPT']].sum(axis=0)\n",
        "\n",
        "fig,ax = plt.subplots()\n",
        "ax.plot(repay_trend)\n",
        "plt.xticks(['PAY_AMT_APR','PAY_AMT_MAY','PAY_AMT_JUN','PAY_AMT_JUL','PAY_AMT_AUG','PAY_AMT_SEPT'],['Apr','May','Jun','Jul','Aug','Sep'])\n",
        "\n",
        "plt.xlabel('Months in 2005',fontweight='bold')\n",
        "plt.ylabel('Total Repay amount',fontweight='bold')\n",
        "plt.title('Repayment Amount Trend',fontweight='bold')"
      ],
      "metadata": {
        "colab": {
          "base_uri": "https://localhost:8080/",
          "height": 312
        },
        "id": "dr3miMR_L6_q",
        "outputId": "11a3dd95-5656-4f0b-837a-3095a52dcc89"
      },
      "execution_count": 38,
      "outputs": [
        {
          "output_type": "execute_result",
          "data": {
            "text/plain": [
              "Text(0.5, 1.0, 'Repayment Amount Trend')"
            ]
          },
          "metadata": {},
          "execution_count": 38
        },
        {
          "output_type": "display_data",
          "data": {
            "text/plain": [
              "<Figure size 432x288 with 1 Axes>"
            ],
            "image/png": "[encoded data removed]"
          },
          "metadata": {
            "needs_background": "light"
          }
        }
      ]
    },
    {
      "cell_type": "code",
      "source": [
        "data.columns"
      ],
      "metadata": {
        "colab": {
          "base_uri": "https://localhost:8080/"
        },
        "id": "JM2TUH_be3pK",
        "outputId": "067d8b23-2f7a-4471-8c2e-10a6924fa042"
      },
      "execution_count": 43,
      "outputs": [
        {
          "output_type": "execute_result",
          "data": {
            "text/plain": [
              "Index(['ID', 'LIMIT_BAL', 'SEX', 'EDUCATION', 'MARRIAGE', 'AGE', 'PAY_SEPT',\n",
              "       'PAY_AUG', 'PAY_JUL', 'PAY_JUN', 'PAY_MAY', 'PAY_APR', 'BILL_AMT_SEPT',\n",
              "       'BILL_AMT_AUG', 'BILL_AMT_JUL', 'BILL_AMT_JUN', 'BILL_AMT_MAY',\n",
              "       'BILL_AMT_APR', 'PAY_AMT_SEPT', 'PAY_AMT_AUG', 'PAY_AMT_JUL',\n",
              "       'PAY_AMT_JUN', 'PAY_AMT_MAY', 'PAY_AMT_APR',\n",
              "       'default payment next month'],\n",
              "      dtype='object')"
            ]
          },
          "metadata": {},
          "execution_count": 43
        }
      ]
    },
    {
      "cell_type": "code",
      "source": [
        "# we will try to fetch relation between credit limit and default payment\n",
        "def_n = data.loc[data['default payment next month'] == 0,'LIMIT_BAL']\n",
        "def_y= data.loc[data['default payment next month'] == 1,'LIMIT_BAL']"
      ],
      "metadata": {
        "id": "vRceIZqKNDCH"
      },
      "execution_count": 44,
      "outputs": []
    },
    {
      "cell_type": "code",
      "source": [
        "fig, ax = plt.subplots()\n",
        "ax.boxplot([def_n, def_y],  showfliers=False)  #Using matplotlib boxplot\n",
        "\n",
        "ax.set_xticklabels(['No_default',\"Default\"],fontweight ='bold')\n",
        "ax.set_ylabel('Credit Limit',fontweight ='bold')\n",
        "ax.set_title('Credit Limit & Default Next Month',fontweight ='bold')\n",
        "\n",
        "plt.show()"
      ],
      "metadata": {
        "colab": {
          "base_uri": "https://localhost:8080/",
          "height": 282
        },
        "id": "kuJL3PjRe-1r",
        "outputId": "b98c50c3-91b1-4097-8c61-2522fd123c06"
      },
      "execution_count": 45,
      "outputs": [
        {
          "output_type": "display_data",
          "data": {
            "text/plain": [
              "<Figure size 432x288 with 1 Axes>"
            ],
            "image/png": "[encoded data removed]"
          },
          "metadata": {
            "needs_background": "light"
          }
        }
      ]
    },
    {
      "cell_type": "code",
      "source": [],
      "metadata": {
        "id": "rNabVfkwfFU7"
      },
      "execution_count": 47,
      "outputs": []
    },
    {
      "cell_type": "code",
      "source": [
        "independent_variables = ['ID', 'LIMIT_BAL', 'SEX', 'EDUCATION', 'MARRIAGE', 'AGE', 'PAY_0',\n",
        "       'PAY_2', 'PAY_3', 'PAY_4', 'PAY_5', 'PAY_6', 'BILL_AMT1', 'BILL_AMT2',\n",
        "       'BILL_AMT3', 'BILL_AMT4', 'BILL_AMT5', 'BILL_AMT6', 'PAY_AMT1',\n",
        "       'PAY_AMT2', 'PAY_AMT3', 'PAY_AMT4', 'PAY_AMT5', 'PAY_AMT6']"
      ],
      "metadata": {
        "id": "tZqDDdbfgAkN"
      },
      "execution_count": 61,
      "outputs": []
    },
    {
      "cell_type": "code",
      "source": [
        "dependent_variables = ['default payment next month']"
      ],
      "metadata": {
        "id": "XoQ1ZxP5f8mQ"
      },
      "execution_count": 62,
      "outputs": []
    },
    {
      "cell_type": "code",
      "source": [
        "# storing values in X and y of both types of variables\n",
        "X = data2[independent_variables].values\n",
        "\n",
        "y = data2[dependent_variables].values"
      ],
      "metadata": {
        "id": "ORFkSvI0gITR"
      },
      "execution_count": 63,
      "outputs": []
    },
    {
      "cell_type": "code",
      "source": [
        "# create training and testing vars\n",
        "X_train, X_test, y_train, y_test = train_test_split(X,y, test_size=0.2)"
      ],
      "metadata": {
        "id": "lOET6pdgggBE"
      },
      "execution_count": 64,
      "outputs": []
    },
    {
      "cell_type": "code",
      "source": [
        "# Importing Logistic Regression\n",
        "from sklearn.linear_model import LogisticRegression"
      ],
      "metadata": {
        "id": "2M-T_Dv1g7mB"
      },
      "execution_count": 65,
      "outputs": []
    },
    {
      "cell_type": "code",
      "source": [
        "classifier1 = LogisticRegression(max_iter=10000)\n",
        "classifier1.fit( X_train, y_train.ravel() )\n",
        "y_pred_lr = classifier1.predict( X_test )"
      ],
      "metadata": {
        "id": "BA1tim5zhGg0"
      },
      "execution_count": 66,
      "outputs": []
    },
    {
      "cell_type": "code",
      "source": [
        "cm = confusion_matrix( y_test, y_pred_lr )\n",
        "print(\"Accuracy on Test Set for LogReg = %.2f\" % ((cm[0,0] + cm[1,1] )/len(X_test)))"
      ],
      "metadata": {
        "colab": {
          "base_uri": "https://localhost:8080/"
        },
        "id": "n7F3yyWBhWkl",
        "outputId": "e909a704-ecb4-4e3f-bad2-667e03ffb15a"
      },
      "execution_count": 67,
      "outputs": [
        {
          "output_type": "stream",
          "name": "stdout",
          "text": [
            "Accuracy on Test Set for LogReg = 0.78\n"
          ]
        }
      ]
    },
    {
      "cell_type": "code",
      "source": [
        "# importing svm\n",
        "from sklearn.svm import SVC"
      ],
      "metadata": {
        "id": "dCp92jKsiBso"
      },
      "execution_count": 70,
      "outputs": []
    },
    {
      "cell_type": "code",
      "source": [
        "classifier2 = SVC(kernel=\"rbf\")\n",
        "classifier2.fit( X_train, y_train.ravel() )\n",
        "y_pred_svm = classifier2.predict( X_test )"
      ],
      "metadata": {
        "id": "UkjKo4YZiFie"
      },
      "execution_count": 69,
      "outputs": []
    },
    {
      "cell_type": "code",
      "source": [
        "cm = confusion_matrix( y_test, y_pred_svm )\n",
        "print(\"Accuracy on Test Set for kernel-SVM = %.2f\" % ((cm[0,0] + cm[1,1] )/len(X_test)))"
      ],
      "metadata": {
        "colab": {
          "base_uri": "https://localhost:8080/"
        },
        "id": "tkKjlWrhiKbR",
        "outputId": "f3615d08-8bf0-48c5-dcb1-e7a26a583cb0"
      },
      "execution_count": 71,
      "outputs": [
        {
          "output_type": "stream",
          "name": "stdout",
          "text": [
            "Accuracy on Test Set for kernel-SVM = 0.78\n"
          ]
        }
      ]
    },
    {
      "cell_type": "code",
      "source": [
        "# importing random forest classifier\n",
        "from sklearn.ensemble import RandomForestClassifier"
      ],
      "metadata": {
        "id": "JbV-OSm_iOzN"
      },
      "execution_count": 72,
      "outputs": []
    },
    {
      "cell_type": "code",
      "source": [
        "# fitting algorithm\n",
        "classifier3= RandomForestClassifier(n_estimators=10)\n",
        "classifier3.fit( X_train, y_train.ravel() )\n",
        "y_pred_rfc = classifier3.predict( X_test )"
      ],
      "metadata": {
        "id": "p76x4gsoiOvs"
      },
      "execution_count": 75,
      "outputs": []
    },
    {
      "cell_type": "code",
      "source": [
        "cm = confusion_matrix( y_test, y_pred_rfc )\n",
        "print(\"Accuracy on Test Set for RandomForest = %.2f\" % ((cm[0,0] + cm[1,1] )/len(X_test)))"
      ],
      "metadata": {
        "colab": {
          "base_uri": "https://localhost:8080/"
        },
        "id": "uWTsi06MiOsa",
        "outputId": "3ba66790-2f41-422f-df0b-f35b77fe7ea1"
      },
      "execution_count": 76,
      "outputs": [
        {
          "output_type": "stream",
          "name": "stdout",
          "text": [
            "Accuracy on Test Set for RandomForest = 0.80\n"
          ]
        }
      ]
    },
    {
      "cell_type": "code",
      "source": [
        "# importing knn\n",
        "from sklearn.neighbors import KNeighborsClassifier"
      ],
      "metadata": {
        "id": "ZP0ZJ18DitLw"
      },
      "execution_count": 77,
      "outputs": []
    },
    {
      "cell_type": "code",
      "source": [
        "# fitting data into algo\n",
        "classifier4 = KNeighborsClassifier(n_neighbors=5)\n",
        "classifier4.fit( X_train, y_train.ravel() )\n",
        "y_pred_knn = classifier4.predict( X_test )"
      ],
      "metadata": {
        "id": "t05KuUItitqb"
      },
      "execution_count": 78,
      "outputs": []
    },
    {
      "cell_type": "code",
      "source": [
        "cm = confusion_matrix( y_test, y_pred_knn )\n",
        "print(\"Accuracy on Test Set for KNeighborsClassifier = %.2f\" % ((cm[0,0] + cm[1,1] )/len(X_test)))"
      ],
      "metadata": {
        "colab": {
          "base_uri": "https://localhost:8080/"
        },
        "id": "HpN_-l0AixKP",
        "outputId": "66c469d7-000d-4448-bfaf-e3c4da8891bc"
      },
      "execution_count": 79,
      "outputs": [
        {
          "output_type": "stream",
          "name": "stdout",
          "text": [
            "Accuracy on Test Set for KNeighborsClassifier = 0.75\n"
          ]
        }
      ]
    },
    {
      "cell_type": "code",
      "source": [
        "#importing libraries\n",
        "from sklearn.tree import DecisionTreeClassifier\n",
        "from sklearn.metrics import accuracy_score, make_scorer\n",
        "from sklearn.model_selection import train_test_split\n",
        "from sklearn.metrics import confusion_matrix\n",
        "from sklearn.model_selection import cross_val_score"
      ],
      "metadata": {
        "id": "aEL1jhHZizdx"
      },
      "execution_count": 80,
      "outputs": []
    },
    {
      "cell_type": "code",
      "source": [
        "# calling algorithm\n",
        "classifier5 = DecisionTreeClassifier(max_depth=10, random_state=14) "
      ],
      "metadata": {
        "id": "MmzqPocUjCkH"
      },
      "execution_count": 81,
      "outputs": []
    },
    {
      "cell_type": "code",
      "source": [
        "# training the classifier\n",
        "classifier5.fit(X_train, y_train.ravel())\n",
        "# do our predictions on the test\n",
        "predictions = classifier5.predict(X_test)"
      ],
      "metadata": {
        "id": "E7qElhcXjGcS"
      },
      "execution_count": 82,
      "outputs": []
    },
    {
      "cell_type": "code",
      "source": [
        "# see how good we did on the test\n",
        "cm = confusion_matrix( y_test, predictions )\n",
        "print(\"Accuracy on Test Set for Decesion Tree Classifier = %.2f\" % ((cm[0,0] + cm[1,1] )/len(X_test)))"
      ],
      "metadata": {
        "colab": {
          "base_uri": "https://localhost:8080/"
        },
        "id": "vnIkijvPjKX1",
        "outputId": "40a295bc-febc-47a7-85a9-2f294e0195ce"
      },
      "execution_count": 83,
      "outputs": [
        {
          "output_type": "stream",
          "name": "stdout",
          "text": [
            "Accuracy on Test Set for Decesion Tree Classifier = 0.80\n"
          ]
        }
      ]
    },
    {
      "cell_type": "code",
      "source": [
        "from sklearn.metrics import roc_curve\n",
        "\n",
        "# roc curve for models\n",
        "fpr1, tpr1, thresh1 = roc_curve(y_test, predictions, pos_label=1)\n",
        "fpr2, tpr2, thresh2 = roc_curve(y_test, y_pred_rfc, pos_label=1)\n",
        "fpr3, tpr3, thresh3 = roc_curve(y_test, y_pred_svm, pos_label=1)\n",
        "fpr4, tpr4, thresh4 = roc_curve(y_test, y_pred_lr, pos_label=1)\n",
        "fpr5, tpr5, thresh5 = roc_curve(y_test, y_pred_knn, pos_label=1)"
      ],
      "metadata": {
        "id": "j-ScUratjONP"
      },
      "execution_count": 85,
      "outputs": []
    },
    {
      "cell_type": "code",
      "source": [
        "random_probs = [0 for i in range(len(y_test))]\n",
        "p_fpr, p_tpr, _ = roc_curve(y_test, random_probs, pos_label=1)"
      ],
      "metadata": {
        "id": "3NN8LcJwjU1o"
      },
      "execution_count": 86,
      "outputs": []
    },
    {
      "cell_type": "code",
      "source": [
        "plt.style.use('seaborn')\n",
        "\n",
        "# plot roc curves\n",
        "plt.plot(fpr1, tpr1, linestyle='--',color='orange', label='Decesion Tree')\n",
        "plt.plot(fpr2, tpr2, linestyle='--',color='green', label='Random Forest Classifier')\n",
        "plt.plot(fpr3, tpr3, linestyle='--',color='black', label='Support Vector Machine')\n",
        "plt.plot(fpr4, tpr4, linestyle='--',color='magenta', label='Logistic Regression')\n",
        "plt.plot(fpr5, tpr5, linestyle='--',color='yellow', label='K Nearest Neighbour')\n",
        "plt.plot(p_fpr, p_tpr, linestyle='--', color='blue')\n",
        "# title\n",
        "plt.title('ROC curve')\n",
        "# x label\n",
        "plt.xlabel('False Positive Rate')\n",
        "# y label\n",
        "plt.ylabel('True Positive rate')\n",
        "\n",
        "plt.legend(loc='best')\n",
        "plt.savefig('ROC',dpi=300)\n",
        "plt.show();"
      ],
      "metadata": {
        "colab": {
          "base_uri": "https://localhost:8080/",
          "height": 376
        },
        "id": "tiaGBzINjjEx",
        "outputId": "ea7aeb0c-5e81-404c-c3bc-3b4f905718c8"
      },
      "execution_count": 88,
      "outputs": [
        {
          "output_type": "display_data",
          "data": {
            "text/plain": [
              "<Figure size 576x396 with 1 Axes>"
            ],
            "image/png": "[encoded data removed]"
          },
          "metadata": {}
        }
      ]
    },
    {
      "cell_type": "markdown",
      "source": [
        "**Decsion Tree Classifier Tuning Hyperparameters**"
      ],
      "metadata": {
        "id": "II586RUEj0NZ"
      }
    },
    {
      "cell_type": "code",
      "source": [
        "from sklearn.tree import DecisionTreeClassifier\n",
        "from sklearn import tree"
      ],
      "metadata": {
        "id": "qBDAXvTRjnt0"
      },
      "execution_count": 89,
      "outputs": []
    },
    {
      "cell_type": "code",
      "source": [
        "clf_tree = DecisionTreeClassifier(criterion='entropy', max_depth=4, random_state=5)\n",
        "clf_tree.fit(X_train, y_train.ravel())\n",
        "clf_tree_pred=clf_tree.predict(X_test)\n"
      ],
      "metadata": {
        "id": "Z6-V3CPbjzeD"
      },
      "execution_count": 92,
      "outputs": []
    },
    {
      "cell_type": "code",
      "source": [
        "cm = confusion_matrix( y_test, clf_tree_pred )\n",
        "print(\"Accuracy on Test Set for Decesion Tree Classifier = %.2f\" % ((cm[0,0] + cm[1,1] )/len(X_test)))"
      ],
      "metadata": {
        "colab": {
          "base_uri": "https://localhost:8080/"
        },
        "id": "5zq0W9JCj6Fv",
        "outputId": "e8e8fee8-cc49-4419-bc6a-b3942d40c349"
      },
      "execution_count": 93,
      "outputs": [
        {
          "output_type": "stream",
          "name": "stdout",
          "text": [
            "Accuracy on Test Set for Decesion Tree Classifier = 0.81\n"
          ]
        }
      ]
    },
    {
      "cell_type": "code",
      "source": [],
      "metadata": {
        "id": "j1TbgEZUj_SY"
      },
      "execution_count": null,
      "outputs": []
    }
  ]
}